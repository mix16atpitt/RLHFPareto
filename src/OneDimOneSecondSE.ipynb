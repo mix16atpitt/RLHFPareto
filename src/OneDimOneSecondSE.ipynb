{
 "cells": [
  {
   "cell_type": "code",
   "execution_count": 1,
   "id": "8d571516",
   "metadata": {
    "ExecuteTime": {
     "end_time": "2024-02-26T15:21:09.657759Z",
     "start_time": "2024-02-26T15:21:09.046139Z"
    }
   },
   "outputs": [],
   "source": [
    "import numpy as np\n",
    "import random as rd\n",
    "import matplotlib.pyplot as plt\n",
    "from tqdm import tqdm\n",
    "\n",
    "from fdtd_solver import FDTDSolver\n",
    "from RF_index import RFIndex"
   ]
  },
  {
   "cell_type": "code",
   "execution_count": 2,
   "id": "7796db7c",
   "metadata": {
    "ExecuteTime": {
     "end_time": "2024-02-26T15:21:09.668429Z",
     "start_time": "2024-02-26T15:21:09.660756Z"
    }
   },
   "outputs": [],
   "source": [
    "class SESimulation:\n",
    "    def __init__(self, layer_materials, layer_thicknesses, solver):\n",
    "\n",
    "        self.layer_materials = layer_materials\n",
    "        self.layer_thicknesses = layer_thicknesses\n",
    "        self.fdtd_solver = solver\n",
    "\n",
    "        # Define frequency vectors for simulation\n",
    "        self.f_vector = np.linspace(8e9, 18e9, 100)\n",
    "\n",
    "    def perform_stackrt_simulation(self, n_matrix, f_vector):\n",
    "        return self.fdtd_solver.stackrt(n_matrix, self.layer_thicknesses, f_vector, 0)\n",
    "\n",
    "    def calculate_SE(self, RT):\n",
    "        Ts = RT['Ts']\n",
    "        Tp = RT['Tp']\n",
    "        SE_Ts = -10 * np.log10(Ts)\n",
    "        SE_Tp = -10 * np.log10(Tp)\n",
    "        \n",
    "        SE_Ts_mean = np.mean(SE_Ts)\n",
    "        SE_Tp_mean = np.mean(SE_Tp)\n",
    "\n",
    "        SE = (SE_Tp_mean + SE_Ts_mean) / 2\n",
    "        return SE\n",
    "\n",
    "    def run_simulation(self):\n",
    "        # Create refractive index matrix\n",
    "        n_matrix = RFIndex.create_matrix(self.fdtd_solver, self.layer_materials, self.f_vector)\n",
    "\n",
    "        # Perform stackrt simulation\n",
    "        RT = self.perform_stackrt_simulation(n_matrix, self.f_vector)\n",
    "\n",
    "        # Calculate Spectral Efficiency (SE)\n",
    "        SE = self.calculate_SE(RT)\n",
    "\n",
    "        # Output results\n",
    "        # print(f'stackrt: SE {SE:.4f}')\n",
    "        return SE"
   ]
  },
  {
   "cell_type": "code",
   "execution_count": 3,
   "id": "f21346d8",
   "metadata": {
    "ExecuteTime": {
     "end_time": "2024-02-26T15:21:13.960822Z",
     "start_time": "2024-02-26T15:21:09.670453Z"
    }
   },
   "outputs": [],
   "source": [
    "solver = FDTDSolver()"
   ]
  },
  {
   "cell_type": "code",
   "execution_count": 4,
   "id": "6bc994a9",
   "metadata": {
    "ExecuteTime": {
     "end_time": "2024-02-26T15:21:13.972536Z",
     "start_time": "2024-02-26T15:21:13.963216Z"
    }
   },
   "outputs": [],
   "source": [
    "material_database = {\n",
    "    0: \"Air\",\n",
    "    1: \"TiO2 (Titanium Dioxide) - Siefke\",\n",
    "    2: \"SiO2 (Glass) - Palik\",\n",
    "    3: \"Cr (Chromium) - CRC\",\n",
    "    4: \"Cr (Chromium) - Palik\"\n",
    "}\n",
    "\n",
    "material_limits = {\n",
    "    0: 0.0,\n",
    "    1: 24e-9,\n",
    "    2: 141e-9,\n",
    "    3: 153e-9,\n",
    "    4: 164e-9\n",
    "}\n",
    "\n",
    "\n",
    "def random_value(layer_code):\n",
    "    layer_materials = []\n",
    "    layer_thicknesses = []\n",
    "\n",
    "    for code in layer_code:\n",
    "        layer_materials.append(material_database[code])\n",
    "        layer_thicknesses.append(rd.random() * material_limits[code])\n",
    "\n",
    "    layer_thicknesses = np.array(layer_thicknesses)\n",
    "\n",
    "    simulation = SESimulation(layer_materials, layer_thicknesses, solver)\n",
    "    SE = simulation.run_simulation()\n",
    "    \n",
    "    return SE"
   ]
  },
  {
   "cell_type": "code",
   "execution_count": 6,
   "id": "c6b3e053",
   "metadata": {
    "ExecuteTime": {
     "end_time": "2024-02-26T15:29:53.748213Z",
     "start_time": "2024-02-26T15:28:48.990065Z"
    },
    "scrolled": true
   },
   "outputs": [
    {
     "name": "stderr",
     "output_type": "stream",
     "text": [
      "100%|███████████████████████████████████████████████████████████████████████████| 10000/10000 [01:04<00:00, 154.83it/s]\n"
     ]
    },
    {
     "data": {
      "image/png": "[encoded data removed]",
      "text/plain": [
       "<Figure size 640x480 with 1 Axes>"
      ]
     },
     "metadata": {},
     "output_type": "display_data"
    }
   ],
   "source": [
    "layer_code = [0, 1, 2, 3, 4, 3, 2, 0]\n",
    "\n",
    "N = 10000\n",
    "SEs = []\n",
    "\n",
    "for i in tqdm(range(N)):\n",
    "    SEs.append(random_value(layer_code))\n",
    "    \n",
    "plt.hist(SEs)\n",
    "plt.show()"
   ]
  }
 ],
 "metadata": {
  "kernelspec": {
   "display_name": "Python 3 (ipykernel)",
   "language": "python",
   "name": "python3"
  },
  "language_info": {
   "codemirror_mode": {
    "name": "ipython",
    "version": 3
   },
   "file_extension": ".py",
   "mimetype": "text/x-python",
   "name": "python",
   "nbconvert_exporter": "python",
   "pygments_lexer": "ipython3",
   "version": "3.11.3"
  }
 },
 "nbformat": 4,
 "nbformat_minor": 5
}
