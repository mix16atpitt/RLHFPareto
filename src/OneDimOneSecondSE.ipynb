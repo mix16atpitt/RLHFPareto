{
 "cells": [
  {
   "cell_type": "code",
   "execution_count": 1,
   "id": "8d571516",
   "metadata": {
    "ExecuteTime": {
     "end_time": "2024-02-26T20:21:28.701153Z",
     "start_time": "2024-02-26T20:21:28.046056Z"
    }
   },
   "outputs": [],
   "source": [
    "import numpy as np\n",
    "import random as rd\n",
    "import matplotlib.pyplot as plt\n",
    "from tqdm import tqdm\n",
    "\n",
    "from fdtd_solver import FDTDSolver\n",
    "from RF_index import RFIndex"
   ]
  },
  {
   "cell_type": "code",
   "execution_count": null,
   "id": "7796db7c",
   "metadata": {
    "ExecuteTime": {
     "start_time": "2024-02-26T20:21:28.044Z"
    }
   },
   "outputs": [],
   "source": [
    "class SESimulation:\n",
    "    def __init__(self, layer_materials, layer_thicknesses, solver):\n",
    "\n",
    "        self.layer_materials = layer_materials\n",
    "        self.layer_thicknesses = layer_thicknesses\n",
    "        self.fdtd_solver = solver\n",
    "\n",
    "        # Define frequency vectors for simulation\n",
    "        self.f_vector = np.linspace(8e9, 18e9, 100)\n",
    "\n",
    "    def perform_stackrt_simulation(self, n_matrix, f_vector):\n",
    "        return self.fdtd_solver.stackrt(n_matrix, self.layer_thicknesses, f_vector, 0)\n",
    "\n",
    "    def calculate_SE(self, RT):\n",
    "        Ts = RT['Ts']\n",
    "        Tp = RT['Tp']\n",
    "        SE_Ts = -10 * np.log10(Ts)\n",
    "        SE_Tp = -10 * np.log10(Tp)\n",
    "        \n",
    "        SE_Ts_mean = np.mean(SE_Ts)\n",
    "        SE_Tp_mean = np.mean(SE_Tp)\n",
    "\n",
    "        SE = (SE_Tp_mean + SE_Ts_mean) / 2\n",
    "        return SE\n",
    "\n",
    "    def run_simulation(self):\n",
    "        # Create refractive index matrix\n",
    "        n_matrix = RFIndex.create_matrix(self.fdtd_solver, self.layer_materials, self.f_vector)\n",
    "\n",
    "        # Perform stackrt simulation\n",
    "        RT = self.perform_stackrt_simulation(n_matrix, self.f_vector)\n",
    "\n",
    "        # Calculate Spectral Efficiency (SE)\n",
    "        SE = self.calculate_SE(RT)\n",
    "\n",
    "        # Output results\n",
    "        # print(f'stackrt: SE {SE:.4f}')\n",
    "        return SE"
   ]
  },
  {
   "cell_type": "code",
   "execution_count": null,
   "id": "f21346d8",
   "metadata": {
    "ExecuteTime": {
     "start_time": "2024-02-26T20:21:28.046Z"
    }
   },
   "outputs": [],
   "source": [
    "solver = FDTDSolver()"
   ]
  },
  {
   "cell_type": "code",
   "execution_count": null,
   "id": "6bc994a9",
   "metadata": {
    "ExecuteTime": {
     "start_time": "2024-02-26T20:21:28.047Z"
    }
   },
   "outputs": [],
   "source": [
    "material_database = {\n",
    "    0: \"Air\",\n",
    "    1: \"TiO2 (Titanium Dioxide) - Siefke\",\n",
    "    2: \"Ni (Nickel) - Palik\",\n",
    "    3: \"SiO2 (Glass) - Palik\",\n",
    "    4: \"Si3N4 (Silicon Nitride) - Luke\",\n",
    "    5: \"Pd (Palladium) - Palik\",\n",
    "    6: \"Cr (Chromium) - CRC\",\n",
    "    7: \"Ag (Silver) - CRC\",\n",
    "    8: \"Al (Aluminium) - CRC\",\n",
    "    9: \"Ti (Titanium) - Palik\",\n",
    "    10: \"W (Tungsten) - CRC\",\n",
    "    11: \"Al2O3 - Palik\",\n",
    "    12: \"TiN - Palik\"\n",
    "}\n",
    "\n",
    "material_limits = {\n",
    "    0: 0.0,\n",
    "    1: 400e-9,\n",
    "    2: 400e-9,\n",
    "    3: 400e-9,\n",
    "    4: 400e-9,\n",
    "    5: 400e-9,\n",
    "    6: 400e-9,\n",
    "    7: 400e-9,\n",
    "    8: 400e-9,\n",
    "    9: 400e-9,\n",
    "    10: 400e-9,\n",
    "    11: 400e-9,\n",
    "    12: 400e-9\n",
    "}\n",
    "\n",
    "\n",
    "def random_value(layer_code):\n",
    "    layer_materials = []\n",
    "    layer_thicknesses = []\n",
    "\n",
    "    for code in layer_code:\n",
    "        layer_materials.append(material_database[code])\n",
    "        layer_thicknesses.append(rd.random() * material_limits[code])\n",
    "\n",
    "    layer_thicknesses = np.array(layer_thicknesses)\n",
    "\n",
    "    simulation = SESimulation(layer_materials, layer_thicknesses, solver)\n",
    "    SE = simulation.run_simulation()\n",
    "    \n",
    "    return SE, layer_thicknesses"
   ]
  },
  {
   "cell_type": "code",
   "execution_count": null,
   "id": "c6b3e053",
   "metadata": {
    "ExecuteTime": {
     "start_time": "2024-02-26T20:21:28.049Z"
    },
    "scrolled": true
   },
   "outputs": [],
   "source": [
    "def random_distribution(layer_code):\n",
    "    N = 10000\n",
    "    SEs = []\n",
    "    max_SE = 0.0\n",
    "    max_layer_thicknesses = np.array(len(layer_code))\n",
    "\n",
    "    for i in range(N):\n",
    "        SE, layer_thicknesses= random_value(layer_code)\n",
    "        SEs.append(SE)\n",
    "        if SE > max_SE:\n",
    "            max_SE = SE\n",
    "            max_layer_thicknesses = layer_thicknesses\n",
    "\n",
    "    plt.hist(SEs, bins=100)\n",
    "    plt.show()\n",
    "    \n",
    "    print(max_SE, layer_code, max_layer_thicknesses)\n",
    "    \n",
    "    return max_SE, max_layer_thicknesses"
   ]
  },
  {
   "cell_type": "code",
   "execution_count": null,
   "id": "46053c3f",
   "metadata": {
    "ExecuteTime": {
     "start_time": "2024-02-26T20:21:28.051Z"
    }
   },
   "outputs": [],
   "source": [
    "def generate_sequence(length):\n",
    "    sequence = [rd.randint(0, 12)]\n",
    "    for _ in range(length - 2):\n",
    "        choices = [x for x in range(1, 13) if x != sequence[-1]]\n",
    "        sequence.append(rd.choice(choices))\n",
    "    sequence.append(rd.randint(0, 12))\n",
    "    \n",
    "    return sequence\n",
    "\n",
    "max_SEs = []\n",
    "max_max_SE = 0.0\n",
    "\n",
    "layer_number = 8\n",
    "N_trials = 30\n",
    "\n",
    "for i in tqdm(range(N_trials)):\n",
    "    layer_code = generate_sequence(layer_number)\n",
    "    max_max_layer_thicknesses = np.array(len(layer_code))\n",
    "\n",
    "    max_SE, max_layer_thicknesses = random_distribution(layer_code)\n",
    "    max_SEs.append(max_SE)\n",
    "    \n",
    "    if max_SE > max_max_SE:\n",
    "        max_max_SE = max_SE\n",
    "        max_max_layer_thicknesses = max_layer_thicknesses\n",
    "        max_layer_code = layer_code\n",
    "    \n",
    "plt.hist(max_SEs, bins=100)\n",
    "plt.show()\n",
    "\n",
    "print(max_max_SE, max_layer_code, max_max_layer_thicknesses)"
   ]
  }
 ],
 "metadata": {
  "kernelspec": {
   "display_name": "Python 3 (ipykernel)",
   "language": "python",
   "name": "python3"
  },
  "language_info": {
   "codemirror_mode": {
    "name": "ipython",
    "version": 3
   },
   "file_extension": ".py",
   "mimetype": "text/x-python",
   "name": "python",
   "nbconvert_exporter": "python",
   "pygments_lexer": "ipython3",
   "version": "3.11.3"
  }
 },
 "nbformat": 4,
 "nbformat_minor": 5
}
