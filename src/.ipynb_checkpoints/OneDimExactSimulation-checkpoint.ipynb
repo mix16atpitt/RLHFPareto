{
 "cells": [
  {
   "cell_type": "code",
   "execution_count": 1,
   "id": "03b5df3a",
   "metadata": {
    "ExecuteTime": {
     "end_time": "2024-02-28T19:14:58.267701Z",
     "start_time": "2024-02-28T19:14:54.132040Z"
    }
   },
   "outputs": [],
   "source": [
    "import numpy as np\n",
    "import random as rd\n",
    "import matplotlib.pyplot as plt\n",
    "import sys, os\n",
    "from tqdm import tqdm\n",
    "\n",
    "from utils import kb, c, h\n",
    "from data_processing import DataProcessor\n",
    "from fdtd_solver import FDTDSolver\n",
    "from solar_index import SolarIndex\n",
    "from scipy.integrate import trapezoid\n",
    "\n",
    "from fdtd_solver import FDTDSolver\n",
    "from RF_index import RFIndex\n",
    "import rl_utils"
   ]
  },
  {
   "cell_type": "code",
   "execution_count": 2,
   "id": "211ae2d2",
   "metadata": {
    "ExecuteTime": {
     "end_time": "2024-02-28T19:14:58.532631Z",
     "start_time": "2024-02-28T19:14:58.270120Z"
    }
   },
   "outputs": [
    {
     "name": "stdout",
     "output_type": "stream",
     "text": [
      "Is CUDA supported by this system? True\n",
      "CUDA version: 11.8\n",
      "ID of current CUDA device: 0\n",
      "Name of current CUDA device: Quadro M1000M\n"
     ]
    }
   ],
   "source": [
    "import torch\n",
    "import torch.nn as nn\n",
    "import torch.optim as optim\n",
    "import torch.nn.functional as F\n",
    "\n",
    "# Check CUDA\n",
    " \n",
    "print(f\"Is CUDA supported by this system? {torch.cuda.is_available()}\")\n",
    "print(f\"CUDA version: {torch.version.cuda}\")\n",
    " \n",
    "# Storing ID of current CUDA device\n",
    "cuda_id = torch.cuda.current_device()\n",
    "print(f\"ID of current CUDA device: {torch.cuda.current_device()}\")\n",
    "       \n",
    "print(f\"Name of current CUDA device: {torch.cuda.get_device_name(cuda_id)}\")"
   ]
  },
  {
   "cell_type": "code",
   "execution_count": 3,
   "id": "e5d320b4",
   "metadata": {
    "ExecuteTime": {
     "end_time": "2024-02-28T19:14:58.543477Z",
     "start_time": "2024-02-28T19:14:58.535626Z"
    }
   },
   "outputs": [],
   "source": [
    "class SESimulation:\n",
    "    def __init__(self, layer_materials, layer_thicknesses, solver):\n",
    "\n",
    "        self.layer_materials = layer_materials\n",
    "        self.layer_thicknesses = layer_thicknesses\n",
    "        self.fdtd_solver = solver\n",
    "\n",
    "        # Define frequency vectors for simulation\n",
    "        self.f_vector = np.linspace(8e9, 18e9, 100)\n",
    "\n",
    "    def perform_stackrt_simulation(self, n_matrix, f_vector):\n",
    "        return self.fdtd_solver.stackrt(n_matrix, self.layer_thicknesses, f_vector, 0)\n",
    "\n",
    "    def calculate_SE(self, RT):\n",
    "        Ts = RT['Ts']\n",
    "        Tp = RT['Tp']\n",
    "        SE_Ts = -10 * np.log10(Ts)\n",
    "        SE_Tp = -10 * np.log10(Tp)\n",
    "        \n",
    "        SE_Ts_mean = np.mean(SE_Ts)\n",
    "        SE_Tp_mean = np.mean(SE_Tp)\n",
    "\n",
    "        SE = (SE_Tp_mean + SE_Ts_mean) / 2\n",
    "        return SE\n",
    "\n",
    "    def run_simulation(self):\n",
    "        # Create refractive index matrix\n",
    "        n_matrix = RFIndex.create_matrix(self.fdtd_solver, self.layer_materials, self.f_vector)\n",
    "\n",
    "        # Perform stackrt simulation\n",
    "        RT = self.perform_stackrt_simulation(n_matrix, self.f_vector)\n",
    "\n",
    "        # Calculate Spectral Efficiency (SE)\n",
    "        SE = self.calculate_SE(RT)\n",
    "\n",
    "        # Output results\n",
    "        # print(f'stackrt: SE {SE:.4f}')\n",
    "        return SE"
   ]
  },
  {
   "cell_type": "code",
   "execution_count": 4,
   "id": "63c47022",
   "metadata": {
    "ExecuteTime": {
     "end_time": "2024-02-28T19:15:02.856738Z",
     "start_time": "2024-02-28T19:14:58.546473Z"
    }
   },
   "outputs": [],
   "source": [
    "solver = FDTDSolver()"
   ]
  },
  {
   "cell_type": "code",
   "execution_count": 5,
   "id": "ca9aeca6",
   "metadata": {
    "ExecuteTime": {
     "end_time": "2024-02-28T19:15:02.873051Z",
     "start_time": "2024-02-28T19:15:02.859306Z"
    }
   },
   "outputs": [
    {
     "data": {
      "text/plain": [
       "['TiO2 (Titanium Dioxide) - Siefke',\n",
       " 'Ni (Nickel) - Palik',\n",
       " 'SiO2 (Glass) - Palik']"
      ]
     },
     "execution_count": 5,
     "metadata": {},
     "output_type": "execute_result"
    }
   ],
   "source": [
    "material_database = {\n",
    "#     0: \"Air\",\n",
    "    1: \"TiO2 (Titanium Dioxide) - Siefke\",\n",
    "    2: \"Ni (Nickel) - Palik\",\n",
    "    3: \"SiO2 (Glass) - Palik\",\n",
    "    4: \"Si3N4 (Silicon Nitride) - Luke\",\n",
    "    5: \"Pd (Palladium) - Palik\",\n",
    "    6: \"Cr (Chromium) - CRC\",\n",
    "    7: \"Ag (Silver) - CRC\",\n",
    "    8: \"Al (Aluminium) - CRC\",\n",
    "    9: \"Ti (Titanium) - Palik\",\n",
    "    10: \"W (Tungsten) - CRC\",\n",
    "    11: \"Al2O3 - Palik\",\n",
    "    12: \"TiN - Palik\"\n",
    "}\n",
    "\n",
    "material_limits = {\n",
    "#     0: 0.0,\n",
    "    1: 400e-9,\n",
    "    2: 400e-9,\n",
    "    3: 400e-9,\n",
    "    4: 400e-9,\n",
    "    5: 400e-9,\n",
    "    6: 400e-9,\n",
    "    7: 400e-9,\n",
    "    8: 400e-9,\n",
    "    9: 400e-9,\n",
    "    10: 400e-9,\n",
    "    11: 400e-9,\n",
    "    12: 400e-9\n",
    "}\n",
    "\n",
    "layer_key = [1, 2, 3]\n",
    "\n",
    "layer_materials = [material_database[key] for key in layer_key if key in layer_key]\n",
    "layer_materials"
   ]
  },
  {
   "cell_type": "code",
   "execution_count": 21,
   "id": "11c204f7",
   "metadata": {
    "ExecuteTime": {
     "end_time": "2024-02-28T19:19:42.572333Z",
     "start_time": "2024-02-28T19:19:42.563357Z"
    }
   },
   "outputs": [],
   "source": [
    "# Simple environment\n",
    "\n",
    "class SimpleEnv:\n",
    "    def __init__(self, layer_materials):\n",
    "        self.layer_materials = layer_materials\n",
    "        self.num_states = len(layer_materials)\n",
    "        self.num_actions = 3**self.num_states\n",
    "        self.epochs = 10\n",
    "        self.current_state = 0\n",
    "        self.state = np.zeros(self.num_states)\n",
    "        \n",
    "    def reset(self):\n",
    "        self.state = np.zeros(self.num_states)\n",
    "        self.epochs = 10\n",
    "        return self.state\n",
    "    \n",
    "    def decimal_to_ternary(self, decimal):\n",
    "        if decimal == 0:\n",
    "            return '0' * self.num_states\n",
    "        ternary = ''\n",
    "        while decimal > 0:\n",
    "            remainder = decimal % 3\n",
    "            ternary = str(remainder) + ternary\n",
    "            decimal = decimal // 3\n",
    "        return ternary.zfill(self.num_states)\n",
    "\n",
    "    def step(self, action):\n",
    "        string = self.decimal_to_ternary(action)\n",
    "        for i in range(len(string)):\n",
    "            if string[i] == '0':\n",
    "                self.state[i] += 4e-9\n",
    "            elif string == '1':\n",
    "                self.state[i] -= 4e-9\n",
    "            elif string == '2':\n",
    "                continue\n",
    "        \n",
    "        reward = SESimulation(layer_materials, self.state, solver).run_simulation()\n",
    "        \n",
    "        self.epochs -= 1\n",
    "        done = (self.epochs == 0)\n",
    "\n",
    "        return self.state, reward, done, None"
   ]
  },
  {
   "cell_type": "code",
   "execution_count": 14,
   "id": "c359139b",
   "metadata": {
    "ExecuteTime": {
     "end_time": "2024-02-28T19:16:41.097098Z",
     "start_time": "2024-02-28T19:16:41.066993Z"
    }
   },
   "outputs": [],
   "source": [
    "import rl_utils\n",
    "\n",
    "\n",
    "class PolicyNet(torch.nn.Module):\n",
    "    def __init__(self, state_dim, hidden_dim, action_dim):\n",
    "        super(PolicyNet, self).__init__()\n",
    "        self.fc1 = torch.nn.Linear(state_dim, hidden_dim)\n",
    "        self.fc2 = torch.nn.Linear(hidden_dim, action_dim)\n",
    "\n",
    "    def forward(self, x):\n",
    "        x = F.relu(self.fc1(x))\n",
    "        return F.softmax(self.fc2(x), dim=1)\n",
    "\n",
    "\n",
    "class ValueNet(torch.nn.Module):\n",
    "    def __init__(self, state_dim, hidden_dim):\n",
    "        super(ValueNet, self).__init__()\n",
    "        self.fc1 = torch.nn.Linear(state_dim, hidden_dim)\n",
    "        self.fc2 = torch.nn.Linear(hidden_dim, 1)\n",
    "\n",
    "    def forward(self, x):\n",
    "        x = F.relu(self.fc1(x))\n",
    "        return self.fc2(x)\n",
    "\n",
    "\n",
    "class PPO:\n",
    "    ''' PPO算法,采用截断方式 '''\n",
    "    def __init__(self, state_dim, hidden_dim, action_dim, actor_lr, critic_lr,\n",
    "                 lmbda, epochs, eps, gamma, device):\n",
    "        self.actor = PolicyNet(state_dim, hidden_dim, action_dim).to(device)\n",
    "        self.critic = ValueNet(state_dim, hidden_dim).to(device)\n",
    "        self.actor_optimizer = torch.optim.Adam(self.actor.parameters(),\n",
    "                                                lr=actor_lr)\n",
    "        self.critic_optimizer = torch.optim.Adam(self.critic.parameters(),\n",
    "                                                 lr=critic_lr)\n",
    "        self.gamma = gamma\n",
    "        self.lmbda = lmbda\n",
    "        self.epochs = epochs  # 一条序列的数据用来训练轮数\n",
    "        self.eps = eps  # PPO中截断范围的参数\n",
    "        self.device = device\n",
    "\n",
    "    def take_action(self, state):\n",
    "        state_tensor = torch.tensor(np.array([state]), dtype=torch.float).to(self.device)\n",
    "        probs = self.actor(state_tensor)\n",
    "        action_dist = torch.distributions.Categorical(probs)\n",
    "        action = action_dist.sample()\n",
    "        return action.item()\n",
    "\n",
    "    def update(self, transition_dict):\n",
    "        states = torch.tensor(np.array(transition_dict['states']),\n",
    "                              dtype=torch.float).to(self.device)\n",
    "        actions = torch.tensor(transition_dict['actions']).view(-1, 1).to(\n",
    "            self.device)\n",
    "        rewards = torch.tensor(transition_dict['rewards'],\n",
    "                               dtype=torch.float).view(-1, 1).to(self.device)\n",
    "        next_states = torch.tensor(np.array(transition_dict['next_states']),\n",
    "                                   dtype=torch.float).to(self.device)\n",
    "        dones = torch.tensor(transition_dict['dones'],\n",
    "                             dtype=torch.float).view(-1, 1).to(self.device)\n",
    "        td_target = rewards + self.gamma * self.critic(next_states) * (1 -\n",
    "                                                                       dones)\n",
    "        td_delta = td_target - self.critic(states)\n",
    "        advantage = rl_utils.compute_advantage(self.gamma, self.lmbda,\n",
    "                                               td_delta.cpu()).to(self.device)\n",
    "        old_log_probs = torch.log(self.actor(states).gather(1,\n",
    "                                                            actions)).detach()\n",
    "\n",
    "        for _ in range(self.epochs):\n",
    "            log_probs = torch.log(self.actor(states).gather(1, actions))\n",
    "            ratio = torch.exp(log_probs - old_log_probs)\n",
    "            surr1 = ratio * advantage\n",
    "            surr2 = torch.clamp(ratio, 1 - self.eps,\n",
    "                                1 + self.eps) * advantage  # 截断\n",
    "            actor_loss = torch.mean(-torch.min(surr1, surr2))  # PPO损失函数\n",
    "            critic_loss = torch.mean(\n",
    "                F.mse_loss(self.critic(states), td_target.detach()))\n",
    "            self.actor_optimizer.zero_grad()\n",
    "            self.critic_optimizer.zero_grad()\n",
    "            actor_loss.backward()\n",
    "            critic_loss.backward()\n",
    "            self.actor_optimizer.step()\n",
    "            self.critic_optimizer.step()"
   ]
  },
  {
   "cell_type": "code",
   "execution_count": 22,
   "id": "c80cf77e",
   "metadata": {
    "ExecuteTime": {
     "end_time": "2024-02-28T19:19:50.057843Z",
     "start_time": "2024-02-28T19:19:50.049672Z"
    }
   },
   "outputs": [
    {
     "data": {
      "text/plain": [
       "array([0., 0., 0.])"
      ]
     },
     "execution_count": 22,
     "metadata": {},
     "output_type": "execute_result"
    }
   ],
   "source": [
    "actor_lr = 1e-3\n",
    "critic_lr = 1e-2\n",
    "num_episodes = 1000\n",
    "hidden_dim = 128\n",
    "gamma = 0.98\n",
    "lmbda = 0.95\n",
    "epochs = 10\n",
    "eps = 0.2\n",
    "device = torch.device(\"cuda\") if torch.cuda.is_available() else torch.device(\"cpu\")\n",
    "\n",
    "layer_key = [1, 2, 3]\n",
    "layer_materials = [material_database[key] for key in layer_key if key in layer_key]\n",
    "\n",
    "env = SimpleEnv(layer_materials)\n",
    "env.reset()"
   ]
  },
  {
   "cell_type": "code",
   "execution_count": 23,
   "id": "e920adc7",
   "metadata": {
    "ExecuteTime": {
     "end_time": "2024-02-28T19:19:59.529614Z",
     "start_time": "2024-02-28T19:19:51.273422Z"
    }
   },
   "outputs": [
    {
     "name": "stderr",
     "output_type": "stream",
     "text": [
      "Iteration 0:   1%|▋                                                                    | 1/100 [00:00<00:13,  7.13it/s]"
     ]
    },
    {
     "name": "stdout",
     "output_type": "stream",
     "text": [
      "[4.e-09 0.e+00 4.e-09]\n",
      "[4.e-09 4.e-09 4.e-09]\n",
      "[4.e-09 4.e-09 8.e-09]\n",
      "[4.0e-09 4.0e-09 1.2e-08]\n",
      "[4.0e-09 4.0e-09 1.2e-08]\n",
      "[4.0e-09 4.0e-09 1.2e-08]\n",
      "[4.0e-09 8.0e-09 1.2e-08]\n",
      "[8.0e-09 1.2e-08 1.2e-08]\n",
      "[1.2e-08 1.2e-08 1.2e-08]\n",
      "[1.2e-08 1.2e-08 1.6e-08]\n",
      "[0.e+00 0.e+00 4.e-09]\n",
      "[4.e-09 0.e+00 4.e-09]\n",
      "[4.e-09 0.e+00 4.e-09]\n",
      "[8.e-09 0.e+00 4.e-09]\n",
      "[8.e-09 4.e-09 8.e-09]\n",
      "[8.0e-09 8.0e-09 1.2e-08]\n"
     ]
    },
    {
     "name": "stderr",
     "output_type": "stream",
     "text": [
      "Iteration 0:   3%|██                                                                   | 3/100 [00:00<00:12,  7.74it/s]"
     ]
    },
    {
     "name": "stdout",
     "output_type": "stream",
     "text": [
      "[1.2e-08 8.0e-09 1.6e-08]\n",
      "[1.2e-08 8.0e-09 1.6e-08]\n",
      "[1.6e-08 8.0e-09 2.0e-08]\n",
      "[2.0e-08 1.2e-08 2.0e-08]\n",
      "[0.e+00 0.e+00 4.e-09]\n",
      "[0.e+00 0.e+00 4.e-09]\n",
      "[0.e+00 0.e+00 4.e-09]\n",
      "[0.e+00 4.e-09 8.e-09]\n",
      "[4.0e-09 8.0e-09 1.2e-08]\n",
      "[4.0e-09 1.2e-08 1.2e-08]\n",
      "[8.0e-09 1.2e-08 1.2e-08]\n",
      "[1.2e-08 1.2e-08 1.2e-08]\n",
      "[1.6e-08 1.2e-08 1.2e-08]\n",
      "[1.6e-08 1.2e-08 1.6e-08]\n"
     ]
    },
    {
     "name": "stderr",
     "output_type": "stream",
     "text": [
      "\r",
      "Iteration 0:   4%|██▊                                                                  | 4/100 [00:00<00:12,  7.82it/s]"
     ]
    },
    {
     "name": "stdout",
     "output_type": "stream",
     "text": [
      "[4.e-09 0.e+00 0.e+00]\n",
      "[4.e-09 0.e+00 4.e-09]\n",
      "[4.e-09 0.e+00 4.e-09]\n",
      "[8.e-09 0.e+00 8.e-09]\n",
      "[8.e-09 4.e-09 8.e-09]\n",
      "[8.e-09 4.e-09 8.e-09]\n",
      "[1.2e-08 8.0e-09 1.2e-08]\n",
      "[1.2e-08 1.2e-08 1.2e-08]\n",
      "[1.2e-08 1.6e-08 1.2e-08]\n",
      "[1.6e-08 1.6e-08 1.6e-08]\n",
      "[4.e-09 4.e-09 4.e-09]\n",
      "[4.e-09 4.e-09 4.e-09]\n",
      "[4.e-09 4.e-09 4.e-09]\n",
      "[4.e-09 8.e-09 4.e-09]\n",
      "[8.e-09 8.e-09 4.e-09]\n",
      "[8.e-09 8.e-09 4.e-09]\n",
      "[8.e-09 8.e-09 8.e-09]\n",
      "[1.2e-08 8.0e-09 8.0e-09]\n",
      "[1.2e-08 1.2e-08 8.0e-09]\n",
      "[1.6e-08 1.6e-08 8.0e-09]\n"
     ]
    },
    {
     "name": "stderr",
     "output_type": "stream",
     "text": [
      "Iteration 0:   6%|████▏                                                                | 6/100 [00:00<00:12,  7.48it/s]"
     ]
    },
    {
     "name": "stdout",
     "output_type": "stream",
     "text": [
      "[0. 0. 0.]\n",
      "[0.e+00 4.e-09 4.e-09]\n",
      "[0.e+00 8.e-09 8.e-09]\n",
      "[4.e-09 8.e-09 8.e-09]\n",
      "[4.0e-09 8.0e-09 1.2e-08]\n",
      "[4.0e-09 8.0e-09 1.6e-08]\n",
      "[4.0e-09 8.0e-09 1.6e-08]\n",
      "[4.0e-09 1.2e-08 1.6e-08]\n",
      "[4.0e-09 1.6e-08 1.6e-08]\n",
      "[4.0e-09 1.6e-08 1.6e-08]\n",
      "[0.e+00 0.e+00 4.e-09]\n",
      "[4.e-09 0.e+00 8.e-09]\n",
      "[4.0e-09 4.0e-09 1.2e-08]\n",
      "[4.0e-09 8.0e-09 1.2e-08]\n",
      "[8.0e-09 8.0e-09 1.2e-08]\n",
      "[8.0e-09 1.2e-08 1.2e-08]\n"
     ]
    },
    {
     "name": "stderr",
     "output_type": "stream",
     "text": [
      "\r",
      "Iteration 0:   7%|████▊                                                                | 7/100 [00:00<00:12,  7.42it/s]"
     ]
    },
    {
     "name": "stdout",
     "output_type": "stream",
     "text": [
      "[8.0e-09 1.2e-08 1.6e-08]\n",
      "[8.0e-09 1.2e-08 2.0e-08]\n",
      "[8.0e-09 1.2e-08 2.4e-08]\n",
      "[1.2e-08 1.2e-08 2.4e-08]\n",
      "[4.e-09 4.e-09 4.e-09]\n",
      "[8.e-09 4.e-09 4.e-09]\n",
      "[8.e-09 8.e-09 8.e-09]\n",
      "[1.2e-08 8.0e-09 8.0e-09]\n",
      "[1.2e-08 1.2e-08 1.2e-08]\n",
      "[1.6e-08 1.6e-08 1.6e-08]\n",
      "[1.6e-08 1.6e-08 2.0e-08]\n",
      "[1.6e-08 1.6e-08 2.0e-08]\n",
      "[1.6e-08 1.6e-08 2.4e-08]\n",
      "[1.6e-08 2.0e-08 2.4e-08]\n"
     ]
    },
    {
     "name": "stderr",
     "output_type": "stream",
     "text": [
      "Iteration 0:   9%|██████▏                                                              | 9/100 [00:01<00:11,  7.73it/s]"
     ]
    },
    {
     "name": "stdout",
     "output_type": "stream",
     "text": [
      "[4.e-09 4.e-09 4.e-09]\n",
      "[8.e-09 4.e-09 4.e-09]\n",
      "[1.2e-08 4.0e-09 4.0e-09]\n",
      "[1.2e-08 8.0e-09 4.0e-09]\n",
      "[1.6e-08 1.2e-08 8.0e-09]\n",
      "[1.6e-08 1.6e-08 1.2e-08]\n",
      "[1.6e-08 1.6e-08 1.2e-08]\n",
      "[2.0e-08 2.0e-08 1.6e-08]\n",
      "[2.4e-08 2.4e-08 2.0e-08]\n",
      "[2.8e-08 2.4e-08 2.0e-08]\n",
      "[0.e+00 0.e+00 4.e-09]\n",
      "[4.e-09 0.e+00 8.e-09]\n",
      "[4.e-09 4.e-09 8.e-09]\n",
      "[4.0e-09 4.0e-09 1.2e-08]\n",
      "[4.0e-09 4.0e-09 1.6e-08]\n",
      "[4.0e-09 4.0e-09 1.6e-08]\n",
      "[4.e-09 4.e-09 2.e-08]\n",
      "[8.e-09 4.e-09 2.e-08]\n",
      "[8.e-09 8.e-09 2.e-08]\n"
     ]
    },
    {
     "name": "stderr",
     "output_type": "stream",
     "text": [
      "Iteration 0:  11%|████▍                                   | 11/100 [00:01<00:11,  7.83it/s, episode=10, return=175.027]"
     ]
    },
    {
     "name": "stdout",
     "output_type": "stream",
     "text": [
      "[8.e-09 8.e-09 2.e-08]\n",
      "[0. 0. 0.]\n",
      "[0.e+00 4.e-09 0.e+00]\n",
      "[0.e+00 4.e-09 4.e-09]\n",
      "[4.e-09 4.e-09 4.e-09]\n",
      "[4.e-09 4.e-09 8.e-09]\n",
      "[4.0e-09 8.0e-09 1.2e-08]\n",
      "[8.0e-09 1.2e-08 1.6e-08]\n",
      "[8.0e-09 1.6e-08 1.6e-08]\n",
      "[8.0e-09 2.0e-08 1.6e-08]\n",
      "[1.2e-08 2.0e-08 1.6e-08]\n",
      "[4.e-09 0.e+00 0.e+00]\n",
      "[4.e-09 0.e+00 4.e-09]\n",
      "[4.e-09 4.e-09 8.e-09]\n",
      "[8.e-09 4.e-09 8.e-09]\n",
      "[1.2e-08 4.0e-09 8.0e-09]\n",
      "[1.6e-08 8.0e-09 1.2e-08]\n",
      "[2.0e-08 8.0e-09 1.6e-08]\n"
     ]
    },
    {
     "name": "stderr",
     "output_type": "stream",
     "text": [
      "Iteration 0:  13%|█████▏                                  | 13/100 [00:01<00:11,  7.83it/s, episode=10, return=175.027]"
     ]
    },
    {
     "name": "stdout",
     "output_type": "stream",
     "text": [
      "[2.0e-08 1.2e-08 2.0e-08]\n",
      "[2.0e-08 1.6e-08 2.0e-08]\n",
      "[2.4e-08 2.0e-08 2.4e-08]\n",
      "[4.e-09 4.e-09 0.e+00]\n",
      "[4.e-09 8.e-09 0.e+00]\n",
      "[8.e-09 8.e-09 0.e+00]\n",
      "[8.e-09 8.e-09 4.e-09]\n",
      "[1.2e-08 8.0e-09 8.0e-09]\n",
      "[1.2e-08 1.2e-08 1.2e-08]\n",
      "[1.2e-08 1.2e-08 1.2e-08]\n",
      "[1.2e-08 1.6e-08 1.2e-08]\n",
      "[1.2e-08 1.6e-08 1.2e-08]\n",
      "[1.2e-08 1.6e-08 1.2e-08]\n"
     ]
    },
    {
     "name": "stderr",
     "output_type": "stream",
     "text": [
      "\r",
      "Iteration 0:  14%|█████▌                                  | 14/100 [00:01<00:10,  7.91it/s, episode=10, return=175.027]"
     ]
    },
    {
     "name": "stdout",
     "output_type": "stream",
     "text": [
      "[4.e-09 0.e+00 0.e+00]\n",
      "[8.e-09 0.e+00 0.e+00]\n",
      "[8.e-09 4.e-09 0.e+00]\n",
      "[1.2e-08 4.0e-09 0.0e+00]\n",
      "[1.6e-08 4.0e-09 0.0e+00]\n",
      "[2.e-08 8.e-09 0.e+00]\n",
      "[2.e-08 8.e-09 4.e-09]\n",
      "[2.0e-08 1.2e-08 4.0e-09]\n",
      "[2.0e-08 1.2e-08 8.0e-09]\n",
      "[2.0e-08 1.2e-08 8.0e-09]\n",
      "[4.e-09 0.e+00 0.e+00]\n",
      "[4.e-09 0.e+00 4.e-09]\n",
      "[4.e-09 4.e-09 4.e-09]\n",
      "[4.e-09 4.e-09 8.e-09]\n",
      "[8.e-09 4.e-09 8.e-09]\n",
      "[8.0e-09 8.0e-09 1.2e-08]\n",
      "[1.2e-08 8.0e-09 1.2e-08]\n",
      "[1.6e-08 1.2e-08 1.6e-08]\n",
      "[2.0e-08 1.2e-08 1.6e-08]\n",
      "[2.4e-08 1.2e-08 1.6e-08]\n"
     ]
    },
    {
     "name": "stderr",
     "output_type": "stream",
     "text": [
      "Iteration 0:  16%|██████▍                                 | 16/100 [00:02<00:10,  8.05it/s, episode=10, return=175.027]"
     ]
    },
    {
     "name": "stdout",
     "output_type": "stream",
     "text": [
      "[4.e-09 0.e+00 0.e+00]\n",
      "[4.e-09 0.e+00 4.e-09]\n",
      "[4.e-09 0.e+00 4.e-09]\n",
      "[4.e-09 4.e-09 8.e-09]\n",
      "[4.0e-09 8.0e-09 1.2e-08]\n",
      "[4.0e-09 8.0e-09 1.6e-08]\n",
      "[4.0e-09 1.2e-08 2.0e-08]\n",
      "[4.0e-09 1.6e-08 2.4e-08]\n",
      "[8.0e-09 1.6e-08 2.4e-08]\n",
      "[1.2e-08 2.0e-08 2.4e-08]\n",
      "[4.e-09 0.e+00 0.e+00]\n",
      "[4.e-09 0.e+00 4.e-09]\n",
      "[8.e-09 0.e+00 4.e-09]\n",
      "[1.2e-08 0.0e+00 4.0e-09]\n",
      "[1.6e-08 0.0e+00 4.0e-09]\n",
      "[2.e-08 4.e-09 8.e-09]\n",
      "[2.0e-08 8.0e-09 1.2e-08]\n",
      "[2.0e-08 1.2e-08 1.6e-08]\n",
      "[2.4e-08 1.2e-08 1.6e-08]\n"
     ]
    },
    {
     "name": "stderr",
     "output_type": "stream",
     "text": [
      "Iteration 0:  18%|███████▏                                | 18/100 [00:02<00:10,  8.15it/s, episode=10, return=175.027]"
     ]
    },
    {
     "name": "stdout",
     "output_type": "stream",
     "text": [
      "[2.4e-08 1.6e-08 2.0e-08]\n",
      "[0.e+00 4.e-09 0.e+00]\n",
      "[0.e+00 8.e-09 0.e+00]\n",
      "[4.0e-09 1.2e-08 0.0e+00]\n",
      "[8.0e-09 1.2e-08 4.0e-09]\n",
      "[1.2e-08 1.6e-08 8.0e-09]\n",
      "[1.2e-08 1.6e-08 8.0e-09]\n",
      "[1.2e-08 2.0e-08 8.0e-09]\n",
      "[1.2e-08 2.4e-08 8.0e-09]\n",
      "[1.6e-08 2.4e-08 8.0e-09]\n",
      "[1.6e-08 2.8e-08 8.0e-09]\n",
      "[0.e+00 4.e-09 4.e-09]\n",
      "[0.e+00 4.e-09 4.e-09]\n"
     ]
    },
    {
     "name": "stderr",
     "output_type": "stream",
     "text": [
      "\r",
      "Iteration 0:  19%|███████▌                                | 19/100 [00:02<00:10,  7.61it/s, episode=10, return=175.027]"
     ]
    },
    {
     "name": "stdout",
     "output_type": "stream",
     "text": [
      "[0.e+00 4.e-09 4.e-09]\n",
      "[0.e+00 8.e-09 8.e-09]\n",
      "[0.0e+00 8.0e-09 1.2e-08]\n",
      "[0.0e+00 1.2e-08 1.6e-08]\n",
      "[0.0e+00 1.2e-08 1.6e-08]\n",
      "[0.0e+00 1.6e-08 1.6e-08]\n",
      "[0.0e+00 1.6e-08 2.0e-08]\n",
      "[4.0e-09 1.6e-08 2.4e-08]\n",
      "[0.e+00 4.e-09 0.e+00]\n",
      "[0.e+00 8.e-09 4.e-09]\n",
      "[0.0e+00 1.2e-08 8.0e-09]\n",
      "[0.0e+00 1.6e-08 1.2e-08]\n",
      "[4.0e-09 1.6e-08 1.2e-08]\n",
      "[4.0e-09 2.0e-08 1.2e-08]\n",
      "[8.0e-09 2.4e-08 1.2e-08]\n"
     ]
    },
    {
     "name": "stderr",
     "output_type": "stream",
     "text": [
      "Iteration 0:  20%|████████                                | 20/100 [00:02<00:10,  7.29it/s, episode=20, return=191.417]"
     ]
    },
    {
     "name": "stdout",
     "output_type": "stream",
     "text": [
      "[8.0e-09 2.4e-08 1.6e-08]\n",
      "[8.0e-09 2.4e-08 2.0e-08]\n",
      "[8.0e-09 2.8e-08 2.0e-08]\n",
      "[4.e-09 4.e-09 4.e-09]\n",
      "[4.e-09 8.e-09 4.e-09]\n",
      "[8.e-09 8.e-09 8.e-09]\n",
      "[1.2e-08 8.0e-09 8.0e-09]\n",
      "[1.2e-08 8.0e-09 8.0e-09]\n",
      "[1.2e-08 1.2e-08 8.0e-09]\n",
      "[1.2e-08 1.6e-08 8.0e-09]\n",
      "[1.6e-08 1.6e-08 8.0e-09]\n",
      "[1.6e-08 2.0e-08 1.2e-08]\n",
      "[1.6e-08 2.4e-08 1.6e-08]\n"
     ]
    },
    {
     "name": "stderr",
     "output_type": "stream",
     "text": [
      "Iteration 0:  22%|████████▊                               | 22/100 [00:02<00:10,  7.41it/s, episode=20, return=191.417]"
     ]
    },
    {
     "name": "stdout",
     "output_type": "stream",
     "text": [
      "[0. 0. 0.]\n",
      "[0.e+00 0.e+00 4.e-09]\n",
      "[0.e+00 4.e-09 8.e-09]\n",
      "[4.e-09 4.e-09 8.e-09]\n",
      "[8.0e-09 8.0e-09 1.2e-08]\n",
      "[8.0e-09 8.0e-09 1.2e-08]\n",
      "[8.0e-09 1.2e-08 1.2e-08]\n",
      "[8.0e-09 1.2e-08 1.2e-08]\n",
      "[1.2e-08 1.2e-08 1.2e-08]\n",
      "[1.6e-08 1.2e-08 1.6e-08]\n",
      "[0.e+00 4.e-09 0.e+00]\n",
      "[4.e-09 4.e-09 4.e-09]\n",
      "[8.e-09 4.e-09 4.e-09]\n",
      "[8.e-09 8.e-09 8.e-09]\n",
      "[1.2e-08 8.0e-09 8.0e-09]\n",
      "[1.6e-08 1.2e-08 1.2e-08]\n",
      "[1.6e-08 1.6e-08 1.6e-08]\n",
      "[2.0e-08 1.6e-08 1.6e-08]\n",
      "[2.4e-08 1.6e-08 1.6e-08]\n",
      "[2.4e-08 1.6e-08 1.6e-08]\n"
     ]
    },
    {
     "name": "stderr",
     "output_type": "stream",
     "text": [
      "Iteration 0:  24%|█████████▌                              | 24/100 [00:03<00:09,  7.72it/s, episode=20, return=191.417]"
     ]
    },
    {
     "name": "stdout",
     "output_type": "stream",
     "text": [
      "[4.e-09 4.e-09 4.e-09]\n",
      "[4.e-09 4.e-09 4.e-09]\n",
      "[8.e-09 4.e-09 8.e-09]\n",
      "[8.0e-09 8.0e-09 1.2e-08]\n",
      "[8.0e-09 1.2e-08 1.2e-08]\n",
      "[1.2e-08 1.2e-08 1.2e-08]\n",
      "[1.6e-08 1.2e-08 1.2e-08]\n",
      "[1.6e-08 1.6e-08 1.2e-08]\n",
      "[2.0e-08 1.6e-08 1.2e-08]\n",
      "[2.0e-08 2.0e-08 1.2e-08]\n",
      "[0.e+00 4.e-09 4.e-09]\n",
      "[4.e-09 4.e-09 4.e-09]\n",
      "[8.e-09 8.e-09 8.e-09]\n",
      "[1.2e-08 1.2e-08 1.2e-08]\n",
      "[1.2e-08 1.6e-08 1.6e-08]\n",
      "[1.2e-08 1.6e-08 1.6e-08]\n",
      "[1.2e-08 2.0e-08 1.6e-08]\n",
      "[1.6e-08 2.0e-08 1.6e-08]\n",
      "[2.0e-08 2.0e-08 1.6e-08]\n",
      "[2.0e-08 2.4e-08 2.0e-08]\n"
     ]
    },
    {
     "name": "stderr",
     "output_type": "stream",
     "text": [
      "Iteration 0:  26%|██████████▍                             | 26/100 [00:03<00:09,  7.87it/s, episode=20, return=191.417]"
     ]
    },
    {
     "name": "stdout",
     "output_type": "stream",
     "text": [
      "[0. 0. 0.]\n",
      "[0. 0. 0.]\n",
      "[4.e-09 4.e-09 4.e-09]\n",
      "[4.e-09 4.e-09 8.e-09]\n",
      "[8.0e-09 4.0e-09 1.2e-08]\n",
      "[8.0e-09 4.0e-09 1.2e-08]\n",
      "[8.0e-09 8.0e-09 1.2e-08]\n",
      "[8.0e-09 8.0e-09 1.6e-08]\n",
      "[1.2e-08 8.0e-09 1.6e-08]\n",
      "[1.6e-08 8.0e-09 1.6e-08]\n",
      "[0. 0. 0.]\n",
      "[0.e+00 0.e+00 4.e-09]\n",
      "[0.e+00 4.e-09 8.e-09]\n",
      "[4.0e-09 8.0e-09 1.2e-08]\n",
      "[4.0e-09 8.0e-09 1.6e-08]\n",
      "[8.0e-09 1.2e-08 1.6e-08]\n",
      "[8.0e-09 1.2e-08 1.6e-08]\n",
      "[8.0e-09 1.2e-08 2.0e-08]\n",
      "[1.2e-08 1.6e-08 2.4e-08]\n",
      "[1.6e-08 2.0e-08 2.4e-08]\n"
     ]
    },
    {
     "name": "stderr",
     "output_type": "stream",
     "text": [
      "Iteration 0:  28%|███████████▏                            | 28/100 [00:03<00:09,  7.40it/s, episode=20, return=191.417]"
     ]
    },
    {
     "name": "stdout",
     "output_type": "stream",
     "text": [
      "[0. 0. 0.]\n",
      "[0.e+00 4.e-09 0.e+00]\n",
      "[4.e-09 4.e-09 0.e+00]\n",
      "[4.e-09 4.e-09 0.e+00]\n",
      "[4.e-09 4.e-09 4.e-09]\n",
      "[4.e-09 8.e-09 8.e-09]\n",
      "[8.0e-09 1.2e-08 1.2e-08]\n",
      "[1.2e-08 1.6e-08 1.6e-08]\n",
      "[1.6e-08 2.0e-08 2.0e-08]\n",
      "[1.6e-08 2.0e-08 2.4e-08]\n",
      "[0.e+00 4.e-09 4.e-09]\n",
      "[4.e-09 8.e-09 8.e-09]\n",
      "[8.0e-09 8.0e-09 1.2e-08]\n",
      "[1.2e-08 1.2e-08 1.2e-08]\n",
      "[1.2e-08 1.2e-08 1.2e-08]\n",
      "[1.6e-08 1.2e-08 1.2e-08]\n",
      "[1.6e-08 1.6e-08 1.2e-08]\n"
     ]
    },
    {
     "name": "stderr",
     "output_type": "stream",
     "text": [
      "\r",
      "Iteration 0:  29%|███████████▌                            | 29/100 [00:03<00:09,  7.17it/s, episode=20, return=191.417]"
     ]
    },
    {
     "name": "stdout",
     "output_type": "stream",
     "text": [
      "[1.6e-08 1.6e-08 1.6e-08]\n",
      "[2.0e-08 1.6e-08 1.6e-08]\n",
      "[2.4e-08 2.0e-08 2.0e-08]\n",
      "[4.e-09 0.e+00 4.e-09]\n",
      "[8.e-09 0.e+00 8.e-09]\n",
      "[1.2e-08 0.0e+00 8.0e-09]\n",
      "[1.6e-08 4.0e-09 8.0e-09]\n",
      "[1.6e-08 8.0e-09 8.0e-09]\n",
      "[1.6e-08 8.0e-09 8.0e-09]\n",
      "[1.6e-08 1.2e-08 1.2e-08]\n",
      "[1.6e-08 1.2e-08 1.2e-08]\n",
      "[1.6e-08 1.6e-08 1.6e-08]\n",
      "[1.6e-08 2.0e-08 2.0e-08]\n"
     ]
    },
    {
     "name": "stderr",
     "output_type": "stream",
     "text": [
      "Iteration 0:  31%|████████████▍                           | 31/100 [00:04<00:09,  7.00it/s, episode=30, return=199.279]"
     ]
    },
    {
     "name": "stdout",
     "output_type": "stream",
     "text": [
      "[4.e-09 4.e-09 0.e+00]\n",
      "[4.e-09 8.e-09 0.e+00]\n",
      "[4.e-09 8.e-09 4.e-09]\n",
      "[4.0e-09 1.2e-08 8.0e-09]\n",
      "[4.0e-09 1.6e-08 8.0e-09]\n",
      "[4.0e-09 1.6e-08 8.0e-09]\n",
      "[4.0e-09 2.0e-08 1.2e-08]\n",
      "[4.0e-09 2.4e-08 1.6e-08]\n",
      "[4.0e-09 2.4e-08 1.6e-08]\n",
      "[4.0e-09 2.8e-08 2.0e-08]\n",
      "[0.e+00 0.e+00 4.e-09]\n",
      "[0.e+00 4.e-09 8.e-09]\n",
      "[0.e+00 4.e-09 8.e-09]\n",
      "[0.0e+00 4.0e-09 1.2e-08]\n",
      "[4.0e-09 8.0e-09 1.6e-08]\n",
      "[4.0e-09 1.2e-08 1.6e-08]\n"
     ]
    },
    {
     "name": "stderr",
     "output_type": "stream",
     "text": [
      "\r",
      "Iteration 0:  32%|████████████▊                           | 32/100 [00:04<00:09,  6.81it/s, episode=30, return=199.279]"
     ]
    },
    {
     "name": "stdout",
     "output_type": "stream",
     "text": [
      "[4.0e-09 1.2e-08 1.6e-08]\n",
      "[4.0e-09 1.6e-08 2.0e-08]\n",
      "[4.e-09 2.e-08 2.e-08]\n",
      "[8.0e-09 2.0e-08 2.4e-08]\n",
      "[0.e+00 4.e-09 4.e-09]\n",
      "[0.e+00 4.e-09 4.e-09]\n",
      "[0.e+00 4.e-09 8.e-09]\n",
      "[0.0e+00 8.0e-09 1.2e-08]\n",
      "[4.0e-09 8.0e-09 1.2e-08]\n",
      "[4.0e-09 1.2e-08 1.6e-08]\n",
      "[4.0e-09 1.6e-08 2.0e-08]\n",
      "[4.0e-09 1.6e-08 2.4e-08]\n",
      "[8.0e-09 1.6e-08 2.8e-08]\n",
      "[8.0e-09 2.0e-08 2.8e-08]\n"
     ]
    },
    {
     "name": "stderr",
     "output_type": "stream",
     "text": [
      "Iteration 0:  34%|█████████████▌                          | 34/100 [00:04<00:09,  6.64it/s, episode=30, return=199.279]"
     ]
    },
    {
     "name": "stdout",
     "output_type": "stream",
     "text": [
      "[0.e+00 4.e-09 0.e+00]\n",
      "[0.e+00 4.e-09 4.e-09]\n",
      "[0.e+00 4.e-09 4.e-09]\n",
      "[0.e+00 8.e-09 4.e-09]\n",
      "[4.e-09 8.e-09 8.e-09]\n",
      "[4.0e-09 1.2e-08 1.2e-08]\n",
      "[4.0e-09 1.6e-08 1.2e-08]\n",
      "[4.0e-09 2.0e-08 1.2e-08]\n",
      "[4.0e-09 2.4e-08 1.2e-08]\n",
      "[4.0e-09 2.4e-08 1.6e-08]\n",
      "[0.e+00 4.e-09 4.e-09]\n",
      "[0.e+00 8.e-09 4.e-09]\n",
      "[0.0e+00 1.2e-08 8.0e-09]\n",
      "[4.0e-09 1.2e-08 8.0e-09]\n",
      "[8.0e-09 1.6e-08 1.2e-08]\n",
      "[8.0e-09 2.0e-08 1.6e-08]\n",
      "[1.2e-08 2.0e-08 1.6e-08]\n"
     ]
    },
    {
     "name": "stderr",
     "output_type": "stream",
     "text": [
      "Iteration 0:  36%|██████████████▍                         | 36/100 [00:04<00:09,  7.11it/s, episode=30, return=199.279]"
     ]
    },
    {
     "name": "stdout",
     "output_type": "stream",
     "text": [
      "[1.2e-08 2.4e-08 1.6e-08]\n",
      "[1.2e-08 2.4e-08 2.0e-08]\n",
      "[1.2e-08 2.4e-08 2.0e-08]\n",
      "[0. 0. 0.]\n",
      "[0.e+00 0.e+00 4.e-09]\n",
      "[0.e+00 0.e+00 4.e-09]\n",
      "[0.e+00 0.e+00 4.e-09]\n",
      "[0.e+00 4.e-09 8.e-09]\n",
      "[0.e+00 8.e-09 8.e-09]\n",
      "[0.0e+00 1.2e-08 1.2e-08]\n",
      "[0.0e+00 1.6e-08 1.6e-08]\n",
      "[0.e+00 2.e-08 2.e-08]\n",
      "[4.0e-09 2.4e-08 2.0e-08]\n"
     ]
    },
    {
     "name": "stderr",
     "output_type": "stream",
     "text": [
      "\r",
      "Iteration 0:  37%|██████████████▊                         | 37/100 [00:04<00:08,  7.44it/s, episode=30, return=199.279]"
     ]
    },
    {
     "name": "stdout",
     "output_type": "stream",
     "text": [
      "[0.e+00 4.e-09 4.e-09]\n",
      "[4.e-09 8.e-09 8.e-09]\n",
      "[4.e-09 8.e-09 8.e-09]\n",
      "[4.0e-09 8.0e-09 1.2e-08]\n",
      "[8.0e-09 1.2e-08 1.6e-08]\n",
      "[8.0e-09 1.2e-08 2.0e-08]\n",
      "[1.2e-08 1.2e-08 2.0e-08]\n",
      "[1.2e-08 1.6e-08 2.0e-08]\n",
      "[1.2e-08 1.6e-08 2.4e-08]\n",
      "[1.6e-08 2.0e-08 2.8e-08]\n",
      "[0.e+00 4.e-09 4.e-09]\n",
      "[0.e+00 8.e-09 4.e-09]\n",
      "[0.0e+00 1.2e-08 8.0e-09]\n",
      "[0.0e+00 1.6e-08 8.0e-09]\n",
      "[0.0e+00 1.6e-08 1.2e-08]\n",
      "[0.0e+00 1.6e-08 1.6e-08]\n",
      "[0.0e+00 2.0e-08 1.6e-08]\n",
      "[4.e-09 2.e-08 2.e-08]\n",
      "[4.0e-09 2.0e-08 2.4e-08]\n"
     ]
    },
    {
     "name": "stderr",
     "output_type": "stream",
     "text": [
      "Iteration 0:  39%|███████████████▌                        | 39/100 [00:05<00:08,  7.61it/s, episode=30, return=199.279]"
     ]
    },
    {
     "name": "stdout",
     "output_type": "stream",
     "text": [
      "[8.0e-09 2.4e-08 2.8e-08]\n",
      "[0.e+00 4.e-09 4.e-09]\n",
      "[0.e+00 4.e-09 4.e-09]\n",
      "[4.e-09 4.e-09 8.e-09]\n",
      "[8.0e-09 8.0e-09 1.2e-08]\n",
      "[8.0e-09 1.2e-08 1.6e-08]\n",
      "[1.2e-08 1.2e-08 1.6e-08]\n",
      "[1.2e-08 1.2e-08 2.0e-08]\n",
      "[1.6e-08 1.2e-08 2.0e-08]\n",
      "[1.6e-08 1.6e-08 2.0e-08]\n",
      "[1.6e-08 1.6e-08 2.0e-08]\n",
      "[0.e+00 4.e-09 4.e-09]\n",
      "[0.e+00 8.e-09 8.e-09]\n",
      "[4.0e-09 1.2e-08 1.2e-08]\n",
      "[8.0e-09 1.6e-08 1.6e-08]\n",
      "[1.2e-08 1.6e-08 1.6e-08]\n"
     ]
    },
    {
     "name": "stderr",
     "output_type": "stream",
     "text": [
      "Iteration 0:  41%|████████████████▍                       | 41/100 [00:05<00:07,  7.87it/s, episode=40, return=225.990]"
     ]
    },
    {
     "name": "stdout",
     "output_type": "stream",
     "text": [
      "[1.2e-08 2.0e-08 2.0e-08]\n",
      "[1.6e-08 2.4e-08 2.0e-08]\n",
      "[1.6e-08 2.8e-08 2.0e-08]\n",
      "[1.6e-08 2.8e-08 2.4e-08]\n",
      "[1.6e-08 3.2e-08 2.4e-08]\n",
      "[4.e-09 0.e+00 0.e+00]\n",
      "[8.e-09 0.e+00 4.e-09]\n",
      "[1.2e-08 4.0e-09 8.0e-09]\n",
      "[1.2e-08 8.0e-09 1.2e-08]\n",
      "[1.2e-08 8.0e-09 1.2e-08]\n",
      "[1.6e-08 8.0e-09 1.2e-08]\n",
      "[1.6e-08 1.2e-08 1.6e-08]\n",
      "[1.6e-08 1.2e-08 1.6e-08]\n",
      "[2.0e-08 1.6e-08 2.0e-08]\n",
      "[2.e-08 2.e-08 2.e-08]\n"
     ]
    },
    {
     "name": "stderr",
     "output_type": "stream",
     "text": [
      "\r",
      "Iteration 0:  42%|████████████████▊                       | 42/100 [00:05<00:07,  7.79it/s, episode=40, return=225.990]"
     ]
    },
    {
     "name": "stdout",
     "output_type": "stream",
     "text": [
      "[4.e-09 4.e-09 0.e+00]\n",
      "[4.e-09 8.e-09 4.e-09]\n",
      "[4.e-09 8.e-09 8.e-09]\n",
      "[4.0e-09 1.2e-08 1.2e-08]\n",
      "[4.0e-09 1.2e-08 1.2e-08]\n",
      "[4.0e-09 1.2e-08 1.6e-08]\n",
      "[4.0e-09 1.6e-08 2.0e-08]\n",
      "[4.0e-09 2.0e-08 2.4e-08]\n",
      "[4.0e-09 2.4e-08 2.8e-08]\n",
      "[4.0e-09 2.8e-08 2.8e-08]\n",
      "[0.e+00 4.e-09 4.e-09]\n",
      "[0.e+00 8.e-09 8.e-09]\n",
      "[0.0e+00 8.0e-09 1.2e-08]\n",
      "[0.0e+00 1.2e-08 1.6e-08]\n",
      "[0.0e+00 1.2e-08 2.0e-08]\n",
      "[0.0e+00 1.6e-08 2.4e-08]\n",
      "[4.0e-09 1.6e-08 2.4e-08]\n",
      "[4.0e-09 2.0e-08 2.4e-08]\n"
     ]
    },
    {
     "name": "stderr",
     "output_type": "stream",
     "text": [
      "Iteration 0:  44%|█████████████████▌                      | 44/100 [00:05<00:06,  8.01it/s, episode=40, return=225.990]"
     ]
    },
    {
     "name": "stdout",
     "output_type": "stream",
     "text": [
      "[4.0e-09 2.4e-08 2.8e-08]\n",
      "[8.0e-09 2.4e-08 2.8e-08]\n",
      "[0.e+00 4.e-09 4.e-09]\n",
      "[0.e+00 4.e-09 8.e-09]\n",
      "[0.0e+00 8.0e-09 1.2e-08]\n",
      "[0.0e+00 1.2e-08 1.6e-08]\n",
      "[4.0e-09 1.6e-08 2.0e-08]\n",
      "[4.e-09 2.e-08 2.e-08]\n",
      "[8.0e-09 2.4e-08 2.4e-08]\n",
      "[8.0e-09 2.4e-08 2.8e-08]\n",
      "[8.0e-09 2.4e-08 2.8e-08]\n",
      "[8.0e-09 2.4e-08 2.8e-08]\n",
      "[0. 0. 0.]\n",
      "[0. 0. 0.]\n",
      "[0.e+00 4.e-09 4.e-09]\n",
      "[0.e+00 8.e-09 8.e-09]\n",
      "[0.0e+00 1.2e-08 1.2e-08]\n"
     ]
    },
    {
     "name": "stderr",
     "output_type": "stream",
     "text": [
      "\r",
      "Iteration 0:  45%|██████████████████                      | 45/100 [00:05<00:07,  7.82it/s, episode=40, return=225.990]"
     ]
    },
    {
     "name": "stdout",
     "output_type": "stream",
     "text": [
      "[0.0e+00 1.6e-08 1.6e-08]\n",
      "[0.e+00 2.e-08 2.e-08]\n",
      "[0.0e+00 2.4e-08 2.4e-08]\n",
      "[0.0e+00 2.8e-08 2.8e-08]\n",
      "[0.0e+00 3.2e-08 3.2e-08]\n",
      "[0.e+00 0.e+00 4.e-09]\n",
      "[0.e+00 4.e-09 8.e-09]\n",
      "[0.0e+00 8.0e-09 1.2e-08]\n",
      "[0.0e+00 1.2e-08 1.6e-08]\n",
      "[0.0e+00 1.6e-08 2.0e-08]\n",
      "[0.0e+00 2.0e-08 2.4e-08]\n",
      "[0.0e+00 2.4e-08 2.8e-08]\n",
      "[0.0e+00 2.8e-08 3.2e-08]\n",
      "[0.0e+00 3.2e-08 3.6e-08]\n",
      "[0.0e+00 3.6e-08 4.0e-08]\n"
     ]
    },
    {
     "name": "stderr",
     "output_type": "stream",
     "text": [
      "Iteration 0:  47%|██████████████████▊                     | 47/100 [00:06<00:07,  7.23it/s, episode=40, return=225.990]"
     ]
    },
    {
     "name": "stdout",
     "output_type": "stream",
     "text": [
      "[4.e-09 0.e+00 4.e-09]\n",
      "[4.e-09 4.e-09 8.e-09]\n",
      "[4.0e-09 8.0e-09 1.2e-08]\n",
      "[4.0e-09 1.2e-08 1.6e-08]\n",
      "[4.0e-09 1.6e-08 2.0e-08]\n",
      "[4.0e-09 1.6e-08 2.4e-08]\n",
      "[4.0e-09 1.6e-08 2.8e-08]\n",
      "[4.0e-09 1.6e-08 2.8e-08]\n",
      "[8.0e-09 1.6e-08 3.2e-08]\n",
      "[8.0e-09 2.0e-08 3.6e-08]\n",
      "[0.e+00 4.e-09 4.e-09]\n",
      "[0.e+00 4.e-09 8.e-09]\n",
      "[0.0e+00 4.0e-09 1.2e-08]\n",
      "[0.0e+00 8.0e-09 1.6e-08]\n"
     ]
    },
    {
     "name": "stderr",
     "output_type": "stream",
     "text": [
      "\r",
      "Iteration 0:  48%|███████████████████▏                    | 48/100 [00:06<00:07,  7.13it/s, episode=40, return=225.990]"
     ]
    },
    {
     "name": "stdout",
     "output_type": "stream",
     "text": [
      "[0.0e+00 1.2e-08 2.0e-08]\n",
      "[0.0e+00 1.2e-08 2.0e-08]\n",
      "[4.0e-09 1.6e-08 2.4e-08]\n",
      "[4.0e-09 2.0e-08 2.8e-08]\n",
      "[8.0e-09 2.4e-08 3.2e-08]\n",
      "[1.2e-08 2.4e-08 3.6e-08]\n",
      "[0.e+00 0.e+00 4.e-09]\n",
      "[0.e+00 0.e+00 4.e-09]\n",
      "[0.e+00 4.e-09 8.e-09]\n",
      "[0.0e+00 8.0e-09 1.2e-08]\n",
      "[4.0e-09 1.2e-08 1.6e-08]\n",
      "[4.0e-09 1.6e-08 1.6e-08]\n",
      "[8.0e-09 1.6e-08 2.0e-08]\n",
      "[8.0e-09 1.6e-08 2.0e-08]\n",
      "[8.0e-09 1.6e-08 2.4e-08]\n",
      "[1.2e-08 2.0e-08 2.8e-08]\n"
     ]
    },
    {
     "name": "stderr",
     "output_type": "stream",
     "text": [
      "Iteration 0:  50%|████████████████████                    | 50/100 [00:06<00:07,  7.00it/s, episode=50, return=226.722]"
     ]
    },
    {
     "name": "stdout",
     "output_type": "stream",
     "text": [
      "[0.e+00 4.e-09 4.e-09]\n",
      "[0.e+00 8.e-09 8.e-09]\n",
      "[0.e+00 8.e-09 8.e-09]\n",
      "[0.0e+00 1.2e-08 8.0e-09]\n",
      "[0.0e+00 1.2e-08 1.2e-08]\n",
      "[0.0e+00 1.6e-08 1.6e-08]\n",
      "[0.0e+00 1.6e-08 2.0e-08]\n",
      "[4.e-09 2.e-08 2.e-08]\n",
      "[4.0e-09 2.4e-08 2.4e-08]\n",
      "[4.0e-09 2.8e-08 2.8e-08]\n",
      "[0.e+00 0.e+00 4.e-09]\n",
      "[0.e+00 4.e-09 8.e-09]\n",
      "[0.0e+00 4.0e-09 1.2e-08]\n",
      "[0.0e+00 4.0e-09 1.6e-08]\n",
      "[4.0e-09 4.0e-09 1.6e-08]\n",
      "[4.e-09 8.e-09 2.e-08]\n"
     ]
    },
    {
     "name": "stderr",
     "output_type": "stream",
     "text": [
      "Iteration 0:  52%|████████████████████▊                   | 52/100 [00:06<00:06,  7.36it/s, episode=50, return=226.722]"
     ]
    },
    {
     "name": "stdout",
     "output_type": "stream",
     "text": [
      "[4.e-09 8.e-09 2.e-08]\n",
      "[4.0e-09 8.0e-09 2.4e-08]\n",
      "[4.0e-09 8.0e-09 2.8e-08]\n",
      "[4.0e-09 1.2e-08 3.2e-08]\n",
      "[0.e+00 4.e-09 4.e-09]\n",
      "[0.e+00 8.e-09 8.e-09]\n",
      "[0.0e+00 1.2e-08 1.2e-08]\n",
      "[0.0e+00 1.2e-08 1.6e-08]\n",
      "[0.0e+00 1.6e-08 2.0e-08]\n",
      "[0.0e+00 2.0e-08 2.4e-08]\n",
      "[0.0e+00 2.4e-08 2.8e-08]\n",
      "[0.0e+00 2.4e-08 3.2e-08]\n",
      "[0.0e+00 2.4e-08 3.6e-08]\n",
      "[0.0e+00 2.4e-08 4.0e-08]\n"
     ]
    },
    {
     "name": "stderr",
     "output_type": "stream",
     "text": [
      "\r",
      "Iteration 0:  53%|█████████████████████▏                  | 53/100 [00:07<00:06,  7.60it/s, episode=50, return=226.722]"
     ]
    },
    {
     "name": "stdout",
     "output_type": "stream",
     "text": [
      "[0.e+00 4.e-09 4.e-09]\n",
      "[4.e-09 8.e-09 8.e-09]\n",
      "[4.0e-09 1.2e-08 1.2e-08]\n",
      "[4.0e-09 1.6e-08 1.6e-08]\n",
      "[4.e-09 2.e-08 2.e-08]\n",
      "[4.0e-09 2.4e-08 2.4e-08]\n",
      "[4.0e-09 2.4e-08 2.8e-08]\n",
      "[4.0e-09 2.8e-08 3.2e-08]\n",
      "[4.0e-09 3.2e-08 3.6e-08]\n",
      "[4.0e-09 3.6e-08 4.0e-08]\n",
      "[0.e+00 4.e-09 4.e-09]\n",
      "[0.e+00 8.e-09 8.e-09]\n",
      "[0.0e+00 1.2e-08 1.2e-08]\n",
      "[0.0e+00 1.6e-08 1.6e-08]\n",
      "[0.e+00 2.e-08 2.e-08]\n",
      "[0.0e+00 2.4e-08 2.4e-08]\n",
      "[0.0e+00 2.8e-08 2.8e-08]\n",
      "[0.0e+00 3.2e-08 3.2e-08]\n",
      "[0.0e+00 3.6e-08 3.6e-08]\n",
      "[0.e+00 4.e-08 4.e-08]\n"
     ]
    },
    {
     "name": "stderr",
     "output_type": "stream",
     "text": [
      "Iteration 0:  55%|██████████████████████                  | 55/100 [00:07<00:05,  7.89it/s, episode=50, return=226.722]"
     ]
    },
    {
     "name": "stdout",
     "output_type": "stream",
     "text": [
      "[0.e+00 0.e+00 4.e-09]\n",
      "[0.e+00 0.e+00 8.e-09]\n",
      "[0.0e+00 4.0e-09 1.2e-08]\n",
      "[0.0e+00 8.0e-09 1.6e-08]\n",
      "[0.0e+00 1.2e-08 2.0e-08]\n",
      "[0.0e+00 1.6e-08 2.4e-08]\n",
      "[0.0e+00 2.0e-08 2.8e-08]\n",
      "[4.0e-09 2.4e-08 3.2e-08]\n",
      "[4.0e-09 2.8e-08 3.6e-08]\n",
      "[4.0e-09 3.2e-08 4.0e-08]\n",
      "[4.e-09 0.e+00 4.e-09]\n",
      "[4.e-09 4.e-09 8.e-09]\n",
      "[8.0e-09 8.0e-09 1.2e-08]\n",
      "[8.0e-09 8.0e-09 1.2e-08]\n",
      "[8.0e-09 1.2e-08 1.6e-08]\n",
      "[8.0e-09 1.6e-08 2.0e-08]\n",
      "[8.0e-09 2.0e-08 2.4e-08]\n",
      "[8.0e-09 2.4e-08 2.8e-08]\n",
      "[8.0e-09 2.4e-08 2.8e-08]\n",
      "[8.0e-09 2.8e-08 3.2e-08]\n"
     ]
    },
    {
     "name": "stderr",
     "output_type": "stream",
     "text": [
      "Iteration 0:  57%|██████████████████████▊                 | 57/100 [00:07<00:05,  7.75it/s, episode=50, return=226.722]"
     ]
    },
    {
     "name": "stdout",
     "output_type": "stream",
     "text": [
      "[0.e+00 4.e-09 4.e-09]\n",
      "[0.e+00 8.e-09 8.e-09]\n",
      "[0.0e+00 1.2e-08 1.2e-08]\n",
      "[0.0e+00 1.6e-08 1.6e-08]\n",
      "[4.e-09 2.e-08 2.e-08]\n",
      "[4.0e-09 2.4e-08 2.4e-08]\n",
      "[4.0e-09 2.4e-08 2.8e-08]\n",
      "[4.0e-09 2.4e-08 3.2e-08]\n",
      "[8.0e-09 2.8e-08 3.6e-08]\n",
      "[8.0e-09 2.8e-08 4.0e-08]\n",
      "[0.e+00 4.e-09 4.e-09]\n",
      "[0.e+00 8.e-09 8.e-09]\n",
      "[0.0e+00 8.0e-09 1.2e-08]\n",
      "[0.0e+00 1.2e-08 1.6e-08]\n",
      "[0.0e+00 1.6e-08 2.0e-08]\n",
      "[0.0e+00 1.6e-08 2.4e-08]\n",
      "[0.0e+00 2.0e-08 2.8e-08]\n",
      "[0.0e+00 2.4e-08 3.2e-08]\n"
     ]
    },
    {
     "name": "stderr",
     "output_type": "stream",
     "text": [
      "Iteration 0:  59%|███████████████████████▌                | 59/100 [00:07<00:05,  7.84it/s, episode=50, return=226.722]"
     ]
    },
    {
     "name": "stdout",
     "output_type": "stream",
     "text": [
      "[0.0e+00 2.8e-08 3.6e-08]\n",
      "[0.0e+00 3.2e-08 4.0e-08]\n",
      "[0.e+00 4.e-09 4.e-09]\n",
      "[0.e+00 8.e-09 8.e-09]\n",
      "[0.0e+00 1.2e-08 1.2e-08]\n",
      "[0.0e+00 1.6e-08 1.6e-08]\n",
      "[0.e+00 2.e-08 2.e-08]\n",
      "[0.0e+00 2.4e-08 2.4e-08]\n",
      "[0.0e+00 2.8e-08 2.8e-08]\n",
      "[0.0e+00 3.2e-08 3.2e-08]\n",
      "[0.0e+00 3.6e-08 3.6e-08]\n",
      "[0.e+00 4.e-08 4.e-08]\n"
     ]
    },
    {
     "name": "stderr",
     "output_type": "stream",
     "text": [
      "Iteration 0:  60%|████████████████████████                | 60/100 [00:07<00:05,  7.99it/s, episode=60, return=244.631]"
     ]
    },
    {
     "name": "stdout",
     "output_type": "stream",
     "text": [
      "[0. 0. 0.]\n",
      "[0.e+00 4.e-09 4.e-09]\n",
      "[0.e+00 8.e-09 8.e-09]\n",
      "[0.0e+00 1.2e-08 1.2e-08]\n",
      "[0.0e+00 1.6e-08 1.6e-08]\n",
      "[0.e+00 2.e-08 2.e-08]\n",
      "[0.e+00 2.e-08 2.e-08]\n",
      "[0.0e+00 2.4e-08 2.4e-08]\n",
      "[0.0e+00 2.8e-08 2.8e-08]\n",
      "[0.0e+00 3.2e-08 3.2e-08]\n",
      "[0. 0. 0.]\n",
      "[0. 0. 0.]\n",
      "[0. 0. 0.]\n",
      "[0. 0. 0.]\n",
      "[0.e+00 4.e-09 0.e+00]\n",
      "[0.e+00 8.e-09 4.e-09]\n",
      "[0.e+00 8.e-09 8.e-09]\n",
      "[0.e+00 8.e-09 8.e-09]\n",
      "[0.0e+00 1.2e-08 1.2e-08]\n",
      "[0.0e+00 1.2e-08 1.2e-08]\n"
     ]
    },
    {
     "name": "stderr",
     "output_type": "stream",
     "text": [
      "Iteration 0:  61%|████████████████████████▍               | 61/100 [00:08<00:05,  7.50it/s, episode=60, return=244.631]\n"
     ]
    },
    {
     "name": "stdout",
     "output_type": "stream",
     "text": [
      "[0.e+00 4.e-09 4.e-09]\n",
      "[0.e+00 4.e-09 8.e-09]\n",
      "[4.e-09 4.e-09 8.e-09]\n",
      "[4.0e-09 8.0e-09 1.2e-08]\n"
     ]
    },
    {
     "ename": "KeyboardInterrupt",
     "evalue": "",
     "output_type": "error",
     "traceback": [
      "\u001b[1;31m---------------------------------------------------------------------------\u001b[0m",
      "\u001b[1;31mKeyboardInterrupt\u001b[0m                         Traceback (most recent call last)",
      "Cell \u001b[1;32mIn[23], line 7\u001b[0m\n\u001b[0;32m      2\u001b[0m action_dim \u001b[38;5;241m=\u001b[39m env\u001b[38;5;241m.\u001b[39mnum_actions\n\u001b[0;32m      4\u001b[0m agent \u001b[38;5;241m=\u001b[39m PPO(state_dim, hidden_dim, action_dim, actor_lr, critic_lr, lmbda,\n\u001b[0;32m      5\u001b[0m             epochs, eps, gamma, device)\n\u001b[1;32m----> 7\u001b[0m return_list \u001b[38;5;241m=\u001b[39m \u001b[43mrl_utils\u001b[49m\u001b[38;5;241;43m.\u001b[39;49m\u001b[43mtrain_on_policy_agent\u001b[49m\u001b[43m(\u001b[49m\u001b[43menv\u001b[49m\u001b[43m,\u001b[49m\u001b[43m \u001b[49m\u001b[43magent\u001b[49m\u001b[43m,\u001b[49m\u001b[43m \u001b[49m\u001b[43mnum_episodes\u001b[49m\u001b[43m)\u001b[49m\n",
      "File \u001b[1;32m~\\RLHFPareto\\src\\rl_utils.py:41\u001b[0m, in \u001b[0;36mtrain_on_policy_agent\u001b[1;34m(env, agent, num_episodes)\u001b[0m\n\u001b[0;32m     39\u001b[0m \u001b[38;5;28;01mwhile\u001b[39;00m \u001b[38;5;129;01mnot\u001b[39;00m done:\n\u001b[0;32m     40\u001b[0m     action \u001b[38;5;241m=\u001b[39m agent\u001b[38;5;241m.\u001b[39mtake_action(state)\n\u001b[1;32m---> 41\u001b[0m     next_state, reward, done, _ \u001b[38;5;241m=\u001b[39m \u001b[43menv\u001b[49m\u001b[38;5;241;43m.\u001b[39;49m\u001b[43mstep\u001b[49m\u001b[43m(\u001b[49m\u001b[43maction\u001b[49m\u001b[43m)\u001b[49m\n\u001b[0;32m     42\u001b[0m     transition_dict[\u001b[38;5;124m'\u001b[39m\u001b[38;5;124mstates\u001b[39m\u001b[38;5;124m'\u001b[39m]\u001b[38;5;241m.\u001b[39mappend(state)\n\u001b[0;32m     43\u001b[0m     transition_dict[\u001b[38;5;124m'\u001b[39m\u001b[38;5;124mactions\u001b[39m\u001b[38;5;124m'\u001b[39m]\u001b[38;5;241m.\u001b[39mappend(action)\n",
      "Cell \u001b[1;32mIn[21], line 37\u001b[0m, in \u001b[0;36mSimpleEnv.step\u001b[1;34m(self, action)\u001b[0m\n\u001b[0;32m     34\u001b[0m     \u001b[38;5;28;01melif\u001b[39;00m string \u001b[38;5;241m==\u001b[39m \u001b[38;5;124m'\u001b[39m\u001b[38;5;124m2\u001b[39m\u001b[38;5;124m'\u001b[39m:\n\u001b[0;32m     35\u001b[0m         \u001b[38;5;28;01mcontinue\u001b[39;00m\n\u001b[1;32m---> 37\u001b[0m reward \u001b[38;5;241m=\u001b[39m \u001b[43mSESimulation\u001b[49m\u001b[43m(\u001b[49m\u001b[43mlayer_materials\u001b[49m\u001b[43m,\u001b[49m\u001b[43m \u001b[49m\u001b[38;5;28;43mself\u001b[39;49m\u001b[38;5;241;43m.\u001b[39;49m\u001b[43mstate\u001b[49m\u001b[43m,\u001b[49m\u001b[43m \u001b[49m\u001b[43msolver\u001b[49m\u001b[43m)\u001b[49m\u001b[38;5;241;43m.\u001b[39;49m\u001b[43mrun_simulation\u001b[49m\u001b[43m(\u001b[49m\u001b[43m)\u001b[49m\n\u001b[0;32m     39\u001b[0m \u001b[38;5;28mprint\u001b[39m(\u001b[38;5;28mself\u001b[39m\u001b[38;5;241m.\u001b[39mstate)\n\u001b[0;32m     41\u001b[0m \u001b[38;5;28mself\u001b[39m\u001b[38;5;241m.\u001b[39mepochs \u001b[38;5;241m-\u001b[39m\u001b[38;5;241m=\u001b[39m \u001b[38;5;241m1\u001b[39m\n",
      "Cell \u001b[1;32mIn[3], line 28\u001b[0m, in \u001b[0;36mSESimulation.run_simulation\u001b[1;34m(self)\u001b[0m\n\u001b[0;32m     26\u001b[0m \u001b[38;5;28;01mdef\u001b[39;00m \u001b[38;5;21mrun_simulation\u001b[39m(\u001b[38;5;28mself\u001b[39m):\n\u001b[0;32m     27\u001b[0m     \u001b[38;5;66;03m# Create refractive index matrix\u001b[39;00m\n\u001b[1;32m---> 28\u001b[0m     n_matrix \u001b[38;5;241m=\u001b[39m \u001b[43mRFIndex\u001b[49m\u001b[38;5;241;43m.\u001b[39;49m\u001b[43mcreate_matrix\u001b[49m\u001b[43m(\u001b[49m\u001b[38;5;28;43mself\u001b[39;49m\u001b[38;5;241;43m.\u001b[39;49m\u001b[43mfdtd_solver\u001b[49m\u001b[43m,\u001b[49m\u001b[43m \u001b[49m\u001b[38;5;28;43mself\u001b[39;49m\u001b[38;5;241;43m.\u001b[39;49m\u001b[43mlayer_materials\u001b[49m\u001b[43m,\u001b[49m\u001b[43m \u001b[49m\u001b[38;5;28;43mself\u001b[39;49m\u001b[38;5;241;43m.\u001b[39;49m\u001b[43mf_vector\u001b[49m\u001b[43m)\u001b[49m\n\u001b[0;32m     30\u001b[0m     \u001b[38;5;66;03m# Perform stackrt simulation\u001b[39;00m\n\u001b[0;32m     31\u001b[0m     RT \u001b[38;5;241m=\u001b[39m \u001b[38;5;28mself\u001b[39m\u001b[38;5;241m.\u001b[39mperform_stackrt_simulation(n_matrix, \u001b[38;5;28mself\u001b[39m\u001b[38;5;241m.\u001b[39mf_vector)\n",
      "File \u001b[1;32m~\\RLHFPareto\\src\\RF_index.py:63\u001b[0m, in \u001b[0;36mRFIndex.create_matrix\u001b[1;34m(fdtd_solver, layer_materials, f_vector)\u001b[0m\n\u001b[0;32m     61\u001b[0m     n_matrix[i, :] \u001b[38;5;241m=\u001b[39m n \u001b[38;5;241m+\u001b[39m k \u001b[38;5;241m*\u001b[39m \u001b[38;5;241m1\u001b[39mj\n\u001b[0;32m     62\u001b[0m \u001b[38;5;28;01melse\u001b[39;00m:\n\u001b[1;32m---> 63\u001b[0m     n_complex_20um \u001b[38;5;241m=\u001b[39m \u001b[43mfdtd_solver\u001b[49m\u001b[38;5;241;43m.\u001b[39;49m\u001b[43mget_index\u001b[49m\u001b[43m(\u001b[49m\u001b[38;5;28;43mstr\u001b[39;49m\u001b[43m(\u001b[49m\u001b[43mmaterial_name\u001b[49m\u001b[43m)\u001b[49m\u001b[43m,\u001b[49m\u001b[43m \u001b[49m\u001b[43mfreq_20um\u001b[49m\u001b[43m)\u001b[49m\n\u001b[0;32m     64\u001b[0m     \u001b[38;5;66;03m# Broadcast the 20um index across the frequency vector\u001b[39;00m\n\u001b[0;32m     65\u001b[0m     n_matrix[i, :] \u001b[38;5;241m=\u001b[39m np\u001b[38;5;241m.\u001b[39mfull(num_freqs, n_complex_20um[\u001b[38;5;241m0\u001b[39m])\n",
      "File \u001b[1;32m~\\RLHFPareto\\src\\fdtd_solver.py:14\u001b[0m, in \u001b[0;36mFDTDSolver.get_index\u001b[1;34m(self, material_name, frequencies)\u001b[0m\n\u001b[0;32m     11\u001b[0m \u001b[38;5;28;01mdef\u001b[39;00m \u001b[38;5;21mget_index\u001b[39m(\u001b[38;5;28mself\u001b[39m, material_name, frequencies):\n\u001b[0;32m     12\u001b[0m     \u001b[38;5;66;03m# print(frequencies)\u001b[39;00m\n\u001b[0;32m     13\u001b[0m     \u001b[38;5;66;03m# print(\"material_name: \", material_name)\u001b[39;00m\n\u001b[1;32m---> 14\u001b[0m     \u001b[38;5;28;01mreturn\u001b[39;00m \u001b[38;5;28;43mself\u001b[39;49m\u001b[38;5;241;43m.\u001b[39;49m\u001b[43mfdtd\u001b[49m\u001b[38;5;241;43m.\u001b[39;49m\u001b[43mgetindex\u001b[49m\u001b[43m(\u001b[49m\u001b[43mmaterial_name\u001b[49m\u001b[43m,\u001b[49m\u001b[43m \u001b[49m\u001b[43mfrequencies\u001b[49m\u001b[43m)\u001b[49m\n",
      "File \u001b[1;32mD:\\Program Files\\Lumerical\\v241\\api\\python\\lumapi.py:1257\u001b[0m, in \u001b[0;36mLumerical.__init__.<locals>.<lambda>\u001b[1;34m(self, *args)\u001b[0m\n\u001b[0;32m   1254\u001b[0m     method \u001b[38;5;241m=\u001b[39m (\u001b[38;5;28;01mlambda\u001b[39;00m x: \u001b[38;5;28;01mlambda\u001b[39;00m \u001b[38;5;28mself\u001b[39m, \u001b[38;5;241m*\u001b[39margs, \u001b[38;5;241m*\u001b[39m\u001b[38;5;241m*\u001b[39mkwargs:\n\u001b[0;32m   1255\u001b[0m     appCallWithConstructor(\u001b[38;5;28mself\u001b[39m, x, args, \u001b[38;5;241m*\u001b[39m\u001b[38;5;241m*\u001b[39mkwargs))(name)\n\u001b[0;32m   1256\u001b[0m \u001b[38;5;28;01melse\u001b[39;00m:\n\u001b[1;32m-> 1257\u001b[0m     method \u001b[38;5;241m=\u001b[39m (\u001b[38;5;28;01mlambda\u001b[39;00m x: \u001b[38;5;28;01mlambda\u001b[39;00m \u001b[38;5;28mself\u001b[39m, \u001b[38;5;241m*\u001b[39margs: \u001b[43mappCall\u001b[49m\u001b[43m(\u001b[49m\u001b[38;5;28;43mself\u001b[39;49m\u001b[43m,\u001b[49m\u001b[43m \u001b[49m\u001b[43mx\u001b[49m\u001b[43m,\u001b[49m\u001b[43m \u001b[49m\u001b[43margs\u001b[49m\u001b[43m)\u001b[49m)(name)\n\u001b[0;32m   1258\u001b[0m method\u001b[38;5;241m.\u001b[39m\u001b[38;5;18m__name__\u001b[39m \u001b[38;5;241m=\u001b[39m \u001b[38;5;28mstr\u001b[39m(name)\n\u001b[0;32m   1259\u001b[0m \u001b[38;5;28;01mtry\u001b[39;00m:\n",
      "File \u001b[1;32mD:\\Program Files\\Lumerical\\v241\\api\\python\\lumapi.py:892\u001b[0m, in \u001b[0;36mappCall\u001b[1;34m(self, name, *args)\u001b[0m\n\u001b[0;32m    890\u001b[0m     \u001b[38;5;28;01mpass\u001b[39;00m\n\u001b[0;32m    891\u001b[0m rvals \u001b[38;5;241m=\u001b[39m _getVarInternal(\u001b[38;5;28mself\u001b[39m\u001b[38;5;241m.\u001b[39mhandle, vout)\n\u001b[1;32m--> 892\u001b[0m \u001b[43m_evalScriptInternal\u001b[49m\u001b[43m(\u001b[49m\u001b[38;5;28;43mself\u001b[39;49m\u001b[38;5;241;43m.\u001b[39;49m\u001b[43mhandle\u001b[49m\u001b[43m,\u001b[49m\u001b[43m \u001b[49m\u001b[38;5;124;43m'\u001b[39;49m\u001b[38;5;124;43mclear(\u001b[39;49m\u001b[38;5;132;43;01m%s\u001b[39;49;00m\u001b[38;5;124;43m,\u001b[39;49m\u001b[38;5;132;43;01m%s\u001b[39;49;00m\u001b[38;5;124;43m);\u001b[39;49m\u001b[38;5;124;43m'\u001b[39;49m\u001b[43m \u001b[49m\u001b[38;5;241;43m%\u001b[39;49m\u001b[43m \u001b[49m\u001b[43m(\u001b[49m\u001b[43mvin\u001b[49m\u001b[43m,\u001b[49m\u001b[43m \u001b[49m\u001b[43mvout\u001b[49m\u001b[43m)\u001b[49m\u001b[43m)\u001b[49m\n\u001b[0;32m    894\u001b[0m \u001b[38;5;28;01mif\u001b[39;00m rvals[\u001b[38;5;241m1\u001b[39m] \u001b[38;5;241m<\u001b[39m \u001b[38;5;241m0.9\u001b[39m:\n\u001b[0;32m    895\u001b[0m     message \u001b[38;5;241m=\u001b[39m re\u001b[38;5;241m.\u001b[39msub(\u001b[38;5;124m'\u001b[39m\u001b[38;5;124m^(Error:)\u001b[39m\u001b[38;5;124m\\\u001b[39m\u001b[38;5;124ms(prompt line)\u001b[39m\u001b[38;5;124m\\\u001b[39m\u001b[38;5;124ms[0-9]+:\u001b[39m\u001b[38;5;124m'\u001b[39m, \u001b[38;5;124m'\u001b[39m\u001b[38;5;124m'\u001b[39m, \u001b[38;5;28mstr\u001b[39m(rvals[\u001b[38;5;241m2\u001b[39m]))\u001b[38;5;241m.\u001b[39mstrip()\n",
      "File \u001b[1;32mD:\\Program Files\\Lumerical\\v241\\api\\python\\lumapi.py:286\u001b[0m, in \u001b[0;36m_evalScriptInternal\u001b[1;34m(handle, code)\u001b[0m\n\u001b[0;32m    285\u001b[0m \u001b[38;5;28;01mdef\u001b[39;00m \u001b[38;5;21m_evalScriptInternal\u001b[39m(handle, code):\n\u001b[1;32m--> 286\u001b[0m     ec \u001b[38;5;241m=\u001b[39m \u001b[43mhandle\u001b[49m\u001b[38;5;241;43m.\u001b[39;49m\u001b[43miapi\u001b[49m\u001b[38;5;241;43m.\u001b[39;49m\u001b[43mappEvalScript\u001b[49m\u001b[43m(\u001b[49m\u001b[43mhandle\u001b[49m\u001b[38;5;241;43m.\u001b[39;49m\u001b[43mhandle\u001b[49m\u001b[43m,\u001b[49m\u001b[43m \u001b[49m\u001b[43mcode\u001b[49m\u001b[38;5;241;43m.\u001b[39;49m\u001b[43mencode\u001b[49m\u001b[43m(\u001b[49m\u001b[43m)\u001b[49m\u001b[43m)\u001b[49m\n\u001b[0;32m    287\u001b[0m     \u001b[38;5;28;01mif\u001b[39;00m ec \u001b[38;5;241m<\u001b[39m \u001b[38;5;241m0\u001b[39m:\n\u001b[0;32m    288\u001b[0m         \u001b[38;5;28;01mraise\u001b[39;00m LumApiError(\u001b[38;5;124m\"\u001b[39m\u001b[38;5;124mFailed to evaluate code\u001b[39m\u001b[38;5;124m\"\u001b[39m)\n",
      "\u001b[1;31mKeyboardInterrupt\u001b[0m: "
     ]
    }
   ],
   "source": [
    "state_dim = env.num_states\n",
    "action_dim = env.num_actions\n",
    "\n",
    "agent = PPO(state_dim, hidden_dim, action_dim, actor_lr, critic_lr, lmbda,\n",
    "            epochs, eps, gamma, device)\n",
    "\n",
    "return_list = rl_utils.train_on_policy_agent(env, agent, num_episodes)"
   ]
  },
  {
   "cell_type": "code",
   "execution_count": null,
   "id": "af4ff984",
   "metadata": {
    "ExecuteTime": {
     "end_time": "2024-02-28T19:15:24.000272Z",
     "start_time": "2024-02-28T19:15:24.000272Z"
    }
   },
   "outputs": [],
   "source": [
    "episodes_list = list(range(len(return_list)))\n",
    "plt.plot(episodes_list, return_list)\n",
    "plt.xlabel('Episodes')\n",
    "plt.ylabel('Returns')\n",
    "plt.show()\n",
    "\n",
    "mv_return = rl_utils.moving_average(return_list, 21)\n",
    "plt.plot(episodes_list, mv_return)\n",
    "plt.xlabel('Episodes')\n",
    "plt.ylabel('Returns')\n",
    "plt.show()"
   ]
  }
 ],
 "metadata": {
  "kernelspec": {
   "display_name": "Python 3 (ipykernel)",
   "language": "python",
   "name": "python3"
  },
  "language_info": {
   "codemirror_mode": {
    "name": "ipython",
    "version": 3
   },
   "file_extension": ".py",
   "mimetype": "text/x-python",
   "name": "python",
   "nbconvert_exporter": "python",
   "pygments_lexer": "ipython3",
   "version": "3.11.3"
  }
 },
 "nbformat": 4,
 "nbformat_minor": 5
}
