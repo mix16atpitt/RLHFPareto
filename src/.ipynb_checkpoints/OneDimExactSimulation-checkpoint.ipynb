{
 "cells": [
  {
   "cell_type": "code",
   "execution_count": 1,
   "id": "03b5df3a",
   "metadata": {
    "ExecuteTime": {
     "end_time": "2024-03-03T21:01:35.281737Z",
     "start_time": "2024-03-03T21:01:30.786790Z"
    }
   },
   "outputs": [],
   "source": [
    "import numpy as np\n",
    "import random as rd\n",
    "import matplotlib.pyplot as plt\n",
    "import sys, os\n",
    "from tqdm import tqdm\n",
    "\n",
    "from utils import kb, c, h\n",
    "from data_processing import DataProcessor\n",
    "from fdtd_solver import FDTDSolver\n",
    "from solar_index import SolarIndex\n",
    "from scipy.integrate import trapezoid\n",
    "\n",
    "from fdtd_solver import FDTDSolver\n",
    "from RF_index import RFIndex\n",
    "import rl_utils"
   ]
  },
  {
   "cell_type": "code",
   "execution_count": 2,
   "id": "211ae2d2",
   "metadata": {
    "ExecuteTime": {
     "end_time": "2024-03-03T21:01:35.826557Z",
     "start_time": "2024-03-03T21:01:35.285730Z"
    }
   },
   "outputs": [
    {
     "name": "stdout",
     "output_type": "stream",
     "text": [
      "Is CUDA supported by this system? True\n",
      "CUDA version: 11.8\n",
      "ID of current CUDA device: 0\n",
      "Name of current CUDA device: Quadro M1000M\n"
     ]
    }
   ],
   "source": [
    "import torch\n",
    "import torch.nn as nn\n",
    "import torch.optim as optim\n",
    "import torch.nn.functional as F\n",
    "\n",
    "# Check CUDA\n",
    " \n",
    "print(f\"Is CUDA supported by this system? {torch.cuda.is_available()}\")\n",
    "print(f\"CUDA version: {torch.version.cuda}\")\n",
    " \n",
    "# Storing ID of current CUDA device\n",
    "cuda_id = torch.cuda.current_device()\n",
    "print(f\"ID of current CUDA device: {torch.cuda.current_device()}\")\n",
    "       \n",
    "print(f\"Name of current CUDA device: {torch.cuda.get_device_name(cuda_id)}\")"
   ]
  },
  {
   "cell_type": "code",
   "execution_count": 3,
   "id": "e5d320b4",
   "metadata": {
    "ExecuteTime": {
     "end_time": "2024-03-03T21:01:35.835997Z",
     "start_time": "2024-03-03T21:01:35.829560Z"
    }
   },
   "outputs": [],
   "source": [
    "class SESimulation:\n",
    "    def __init__(self, layer_materials, layer_thicknesses, solver):\n",
    "\n",
    "        self.layer_materials = layer_materials\n",
    "        self.layer_thicknesses = layer_thicknesses\n",
    "        self.fdtd_solver = solver\n",
    "\n",
    "        # Define frequency vectors for simulation\n",
    "        self.f_vector = np.linspace(8e9, 18e9, 100)\n",
    "\n",
    "    def perform_stackrt_simulation(self, n_matrix, f_vector):\n",
    "        return self.fdtd_solver.stackrt(n_matrix, self.layer_thicknesses, f_vector, 0)\n",
    "\n",
    "    def calculate_SE(self, RT):\n",
    "        Ts = RT['Ts']\n",
    "        Tp = RT['Tp']\n",
    "        SE_Ts = -10 * np.log10(Ts)\n",
    "        SE_Tp = -10 * np.log10(Tp)\n",
    "        \n",
    "        SE_Ts_mean = np.mean(SE_Ts)\n",
    "        SE_Tp_mean = np.mean(SE_Tp)\n",
    "\n",
    "        SE = (SE_Tp_mean + SE_Ts_mean) / 2\n",
    "        return SE\n",
    "\n",
    "    def run_simulation(self):\n",
    "        # Create refractive index matrix\n",
    "        n_matrix = RFIndex.create_matrix(self.fdtd_solver, self.layer_materials, self.f_vector)\n",
    "\n",
    "        # Perform stackrt simulation\n",
    "        RT = self.perform_stackrt_simulation(n_matrix, self.f_vector)\n",
    "\n",
    "        # Calculate Spectral Efficiency (SE)\n",
    "        SE = self.calculate_SE(RT)\n",
    "\n",
    "        # Output results\n",
    "        # print(f'stackrt: SE {SE:.4f}')\n",
    "        return SE"
   ]
  },
  {
   "cell_type": "code",
   "execution_count": 4,
   "id": "c6341e52",
   "metadata": {
    "ExecuteTime": {
     "end_time": "2024-03-03T21:01:35.859674Z",
     "start_time": "2024-03-03T21:01:35.839990Z"
    }
   },
   "outputs": [],
   "source": [
    "NmToM = 1e-9\n",
    "MToNm = 1e9\n",
    "UmtoM = 1e-6\n",
    "MToUm = 1e6\n",
    "\n",
    "class PnetSimulation:\n",
    "    def __init__(self, layer_materials, layer_thicknesses, solver):\n",
    "        # Constants\n",
    "        self.kb = kb\n",
    "        self.c = c\n",
    "        self.h = h\n",
    "        self.T_amb = 298\n",
    "        self.T_struct = 298\n",
    "\n",
    "        self.layer_materials = layer_materials\n",
    "        self.layer_thicknesses = layer_thicknesses\n",
    "        self.fdtd_solver = solver\n",
    "\n",
    "        # Define wavelength ranges and frequency vectors\n",
    "        self.lambda_start_cool = 4e-6\n",
    "        self.lambda_stop_cool = 20e-6\n",
    "        self.lambda_start_300nm_4um = 0.3e-6\n",
    "        self.lambda_stop_300nm_4um = 4e-6\n",
    "        self.num_cool_points = 1289\n",
    "        self.num_300nm_4um_points = 1000\n",
    "        self.f_vector_cool = np.linspace(c / self.lambda_stop_cool, c / self.lambda_start_cool, self.num_cool_points)\n",
    "        self.f_vector_300nm_4um = np.linspace(c / self.lambda_stop_300nm_4um, c / self.lambda_start_300nm_4um, self.num_300nm_4um_points)\n",
    "\n",
    "\n",
    "    def perform_stackrt_simulation(self, n_matrix, f_vector, theta):\n",
    "        return self.fdtd_solver.stackrt(n_matrix, self.layer_thicknesses, f_vector, theta)\n",
    "\n",
    "    def read_and_interpolate_AM1_5(self):\n",
    "        AM1_5_data = DataProcessor.read_csv('AM1.5.csv')\n",
    "        AM1_5_wavelengths = AM1_5_data.iloc[:, 0] * NmToM\n",
    "        AM1_5_irradiance = AM1_5_data.iloc[:, 2]\n",
    "        return DataProcessor.interpolate_data(AM1_5_wavelengths, AM1_5_irradiance, \n",
    "                                              self.c/self.f_vector_300nm_4um)\n",
    "\n",
    "    def calculate_absorbed_power_density(self, RT_300nm_4um, AM1_5_interpolated):\n",
    "        lambda_vector_300nm_4um = self.c/self.f_vector_300nm_4um\n",
    "\n",
    "        R_300nm_4um_freq = (RT_300nm_4um['Rp'] + RT_300nm_4um['Rs']) / 2\n",
    "        A_300nm_4um_freq = 1 - R_300nm_4um_freq\n",
    "        A_300nm_4um_freq = A_300nm_4um_freq[:, 0]\n",
    "        absorbed_power_density_300nm_4um = AM1_5_interpolated * A_300nm_4um_freq\n",
    "        P_300nm_4um = -trapezoid(absorbed_power_density_300nm_4um, lambda_vector_300nm_4um * MToNm)\n",
    "        return P_300nm_4um\n",
    "\n",
    "    def calculate_cooling(self, n_cool):\n",
    "        # Setup for angle and wavelength vectors\n",
    "        num_angles = 91\n",
    "        dtheta = np.pi / (2 * num_angles)\n",
    "        theta_values = np.linspace(0, np.pi / 2, num_angles)\n",
    "        lambda_vector_cool = self.c / self.f_vector_cool\n",
    "        theta_values_deg = np.linspace(0, 90, num_angles)\n",
    "\n",
    "        # Perform stackrt simulation for all angles at once\n",
    "        RT_cool = self.fdtd_solver.stackrt(n_cool, self.layer_thicknesses, self.f_vector_cool, theta_values_deg)\n",
    "        R_cool_freq = (RT_cool['Rp'] + RT_cool['Rs']) / 2\n",
    "        A_cool_all_angles = 1 - R_cool_freq\n",
    "        # print(A_cool_all_angles.shape)\n",
    "\n",
    "\n",
    "        # Read atmospheric transmittance data and interpolate\n",
    "        atm_data = DataProcessor.read_csv('modtran_4_20.csv')\n",
    "        lambda_atm = atm_data.iloc[:, 0] * UmtoM\n",
    "        transmittance_atm = atm_data.iloc[:, 1]\n",
    "        transmittance_atm_interp = DataProcessor.interpolate_data(lambda_atm, transmittance_atm, lambda_vector_cool)\n",
    "        transmittance_atm_interp_2d = transmittance_atm_interp[:, np.newaxis]\n",
    "        # Calculate emissivity_atm_interp2\n",
    "        emissivity_atm_interp = 1 - transmittance_atm_interp_2d ** (1 / np.cos(theta_values))\n",
    "\n",
    "        # Calculate Blackbody radiation intensities\n",
    "        I_BB_amb = ((2 * self.h * self.c**2) / (lambda_vector_cool**5) /\n",
    "                    (np.exp((self.h * self.c) / (lambda_vector_cool * self.kb * self.T_amb)) - 1))\n",
    "        I_BB_struct = ((2 * self.h * self.c**2) / (lambda_vector_cool**5) /\n",
    "                       (np.exp((self.h * self.c) / (lambda_vector_cool * self.kb * self.T_struct)) - 1))\n",
    "\n",
    "        # Calculate atmospheric power (P_atm)\n",
    "        I_BB_amb_2d = I_BB_amb[:, np.newaxis]\n",
    "        # Calculate angular factors for broadcasting\n",
    "        angular_factors = np.cos(theta_values) * np.sin(theta_values) * 2 * np.pi\n",
    "        angular_factors_2d = angular_factors[np.newaxis, :]  # Shape becomes (1, 90)\n",
    "        # Calculate the integrand for atmospheric power\n",
    "        integrand_atm = I_BB_amb_2d * emissivity_atm_interp * A_cool_all_angles * angular_factors_2d\n",
    "        P_atm = -trapezoid(trapezoid(integrand_atm, lambda_vector_cool, axis=0), theta_values)\n",
    "\n",
    "        # Calculate radiative power (P_rad)\n",
    "        power_density_struct = I_BB_struct * A_cool_all_angles.T * np.cos(theta_values[:, np.newaxis]) * np.sin(theta_values[:, np.newaxis]) * 2 * np.pi\n",
    "        P_rad = -trapezoid(trapezoid(power_density_struct, lambda_vector_cool, axis=1), theta_values)\n",
    "\n",
    "        # Calculate net cooling power (P_cool) and net power (P_net)\n",
    "        P_cool = P_rad - P_atm\n",
    "\n",
    "        # print(f\"P_atm: {P_atm} W/m^2\")\n",
    "        # print(f\"P_rad: {P_rad} W/m^2\")\n",
    "        return P_cool\n",
    "\n",
    "    def run_simulation(self):\n",
    "        # Create refractive index matrices\n",
    "        n_cool = SolarIndex.create_matrix(self.fdtd_solver, self.layer_materials, self.f_vector_cool)\n",
    "        n_300nm_4um = SolarIndex.create_matrix(self.fdtd_solver, self.layer_materials, self.f_vector_300nm_4um)\n",
    "\n",
    "        # Perform stackrt simulation for 300nm - 4um range\n",
    "        RT_300nm_4um = self.perform_stackrt_simulation(n_300nm_4um, self.f_vector_300nm_4um, 0)\n",
    "\n",
    "        # Read and interpolate AM1.5 data\n",
    "        AM1_5_interpolated = self.read_and_interpolate_AM1_5()\n",
    "\n",
    "        # Calculate absorbed power density\n",
    "        P_300nm_4um = self.calculate_absorbed_power_density(RT_300nm_4um, AM1_5_interpolated)\n",
    "\n",
    "        # Cooling calculations\n",
    "        P_cool = self.calculate_cooling(n_cool)\n",
    "        P_net = P_300nm_4um - P_cool\n",
    "\n",
    "        # Output results\n",
    "        # print(f\"P_300nm_4um: {P_300nm_4um} W/m^2\")\n",
    "        # print(f\"P_cool: {P_cool} W/m^2\")\n",
    "        # print(f\"P_net: {P_net} W/m^2\")\n",
    "        return P_cool, P_net\n",
    "\n",
    "    # ... Additional methods for each step in your simulation"
   ]
  },
  {
   "cell_type": "code",
   "execution_count": 5,
   "id": "63c47022",
   "metadata": {
    "ExecuteTime": {
     "end_time": "2024-03-03T21:01:40.148141Z",
     "start_time": "2024-03-03T21:01:35.862675Z"
    }
   },
   "outputs": [],
   "source": [
    "solver = FDTDSolver()"
   ]
  },
  {
   "cell_type": "code",
   "execution_count": 29,
   "id": "ca9aeca6",
   "metadata": {
    "ExecuteTime": {
     "end_time": "2024-03-03T21:35:06.537619Z",
     "start_time": "2024-03-03T21:35:06.527593Z"
    }
   },
   "outputs": [
    {
     "data": {
      "text/plain": [
       "['TiO2 (Titanium Dioxide) - Siefke',\n",
       " 'Ni (Nickel) - Palik',\n",
       " 'SiO2 (Glass) - Palik',\n",
       " 'Si3N4 (Silicon Nitride) - Luke',\n",
       " 'Pd (Palladium) - Palik',\n",
       " 'Cr (Chromium) - CRC',\n",
       " 'Ag (Silver) - CRC',\n",
       " 'Al (Aluminium) - CRC']"
      ]
     },
     "execution_count": 29,
     "metadata": {},
     "output_type": "execute_result"
    }
   ],
   "source": [
    "material_database = {\n",
    "    0: \"Air\",\n",
    "    1: \"TiO2 (Titanium Dioxide) - Siefke\",\n",
    "    2: \"Ni (Nickel) - Palik\",\n",
    "    3: \"SiO2 (Glass) - Palik\",\n",
    "    4: \"Si3N4 (Silicon Nitride) - Luke\",\n",
    "    5: \"Pd (Palladium) - Palik\",\n",
    "    6: \"Cr (Chromium) - CRC\",\n",
    "    7: \"Ag (Silver) - CRC\",\n",
    "    8: \"Al (Aluminium) - CRC\",\n",
    "    9: \"Ti (Titanium) - Palik\",\n",
    "    10: \"W (Tungsten) - CRC\",\n",
    "    11: \"Al2O3 - Palik\",\n",
    "    12: \"TiN - Palik\"\n",
    "}\n",
    "\n",
    "material_limits = {\n",
    "    0: 0.0,\n",
    "    1: 400e-9,\n",
    "    2: 400e-9,\n",
    "    3: 400e-9,\n",
    "    4: 400e-9,\n",
    "    5: 400e-9,\n",
    "    6: 400e-9,\n",
    "    7: 400e-9,\n",
    "    8: 400e-9,\n",
    "    9: 400e-9,\n",
    "    10: 400e-9,\n",
    "    11: 400e-9,\n",
    "    12: 400e-9\n",
    "}\n",
    "\n",
    "layer_key = [1, 2, 3, 4, 5, 6, 7, 8]\n",
    "\n",
    "layer_materials = [material_database[key] for key in layer_key if key in layer_key]\n",
    "layer_materials"
   ]
  },
  {
   "cell_type": "code",
   "execution_count": 45,
   "id": "11c204f7",
   "metadata": {
    "ExecuteTime": {
     "end_time": "2024-03-03T21:40:21.572305Z",
     "start_time": "2024-03-03T21:40:21.564584Z"
    }
   },
   "outputs": [],
   "source": [
    "# Simple environment\n",
    "\n",
    "class SimpleEnv:\n",
    "    def __init__(self, layer_materials):\n",
    "        self.layer_materials = layer_materials\n",
    "        self.num_states = len(layer_materials)\n",
    "        self.num_actions = 3**self.num_states\n",
    "        self.epochs = 1000\n",
    "        self.current_state = 0\n",
    "        self.state = np.zeros(self.num_states)\n",
    "        \n",
    "    def reset(self):\n",
    "        self.state = np.zeros(self.num_states)\n",
    "        self.epochs = 1000\n",
    "        return self.state\n",
    "    \n",
    "    def decimal_to_ternary(self, decimal):\n",
    "        if decimal == 0:\n",
    "            return '0' * self.num_states\n",
    "        ternary = ''\n",
    "        while decimal > 0:\n",
    "            remainder = decimal % 3\n",
    "            ternary = str(remainder) + ternary\n",
    "            decimal = decimal // 3\n",
    "        return ternary.zfill(self.num_states)\n",
    "\n",
    "    def step(self, action):\n",
    "        string = self.decimal_to_ternary(action)\n",
    "        for i in range(len(string)):\n",
    "            if string[i] == '0':\n",
    "                self.state[i] += 4e-9\n",
    "            elif string == '1':\n",
    "                self.state[i] -= 4e-9\n",
    "            elif string == '2':\n",
    "                continue\n",
    "        \n",
    "        reward_SE = SESimulation(layer_materials, self.state, solver).run_simulation()\n",
    "#         reward_Pcool, reward_Pcool = PnetSimulation(layer_materials, layer_thicknesses, solver).run_simulation()\n",
    "        reward = reward_SE\n",
    "        \n",
    "        self.epochs -= 1\n",
    "        done = (self.epochs == 0)\n",
    "\n",
    "        return self.state, reward, done, None"
   ]
  },
  {
   "cell_type": "code",
   "execution_count": 46,
   "id": "c359139b",
   "metadata": {
    "ExecuteTime": {
     "end_time": "2024-03-03T21:40:24.885579Z",
     "start_time": "2024-03-03T21:40:24.871102Z"
    }
   },
   "outputs": [],
   "source": [
    "class PolicyNet(torch.nn.Module):\n",
    "    def __init__(self, state_dim, hidden_dim, action_dim):\n",
    "        super(PolicyNet, self).__init__()\n",
    "        self.fc1 = torch.nn.Linear(state_dim, hidden_dim)\n",
    "        self.fc2 = torch.nn.Linear(hidden_dim, action_dim)\n",
    "\n",
    "    def forward(self, x):\n",
    "        x = F.relu(self.fc1(x))\n",
    "        return F.softmax(self.fc2(x), dim=1)\n",
    "\n",
    "\n",
    "class ValueNet(torch.nn.Module):\n",
    "    def __init__(self, state_dim, hidden_dim):\n",
    "        super(ValueNet, self).__init__()\n",
    "        self.fc1 = torch.nn.Linear(state_dim, hidden_dim)\n",
    "        self.fc2 = torch.nn.Linear(hidden_dim, 1)\n",
    "\n",
    "    def forward(self, x):\n",
    "        x = F.relu(self.fc1(x))\n",
    "        return self.fc2(x)\n",
    "\n",
    "\n",
    "class PPO:\n",
    "    ''' PPO算法,采用截断方式 '''\n",
    "    def __init__(self, state_dim, hidden_dim, action_dim, actor_lr, critic_lr,\n",
    "                 lmbda, epochs, eps, gamma, device):\n",
    "        self.actor = PolicyNet(state_dim, hidden_dim, action_dim).to(device)\n",
    "        self.critic = ValueNet(state_dim, hidden_dim).to(device)\n",
    "        self.actor_optimizer = torch.optim.Adam(self.actor.parameters(),\n",
    "                                                lr=actor_lr)\n",
    "        self.critic_optimizer = torch.optim.Adam(self.critic.parameters(),\n",
    "                                                 lr=critic_lr)\n",
    "        self.gamma = gamma\n",
    "        self.lmbda = lmbda\n",
    "        self.epochs = epochs  # 一条序列的数据用来训练轮数\n",
    "        self.eps = eps  # PPO中截断范围的参数\n",
    "        self.device = device\n",
    "\n",
    "    def take_action(self, state):\n",
    "        state_tensor = torch.tensor(np.array([state]), dtype=torch.float).to(self.device)\n",
    "        probs = self.actor(state_tensor)\n",
    "        action_dist = torch.distributions.Categorical(probs)\n",
    "        action = action_dist.sample()\n",
    "        return action.item()\n",
    "\n",
    "    def update(self, transition_dict):\n",
    "        states = torch.tensor(np.array(transition_dict['states']),\n",
    "                              dtype=torch.float).to(self.device)\n",
    "        actions = torch.tensor(transition_dict['actions']).view(-1, 1).to(\n",
    "            self.device)\n",
    "        rewards = torch.tensor(transition_dict['rewards'],\n",
    "                               dtype=torch.float).view(-1, 1).to(self.device)\n",
    "        next_states = torch.tensor(np.array(transition_dict['next_states']),\n",
    "                                   dtype=torch.float).to(self.device)\n",
    "        dones = torch.tensor(transition_dict['dones'],\n",
    "                             dtype=torch.float).view(-1, 1).to(self.device)\n",
    "        td_target = rewards + self.gamma * self.critic(next_states) * (1 -\n",
    "                                                                       dones)\n",
    "        td_delta = td_target - self.critic(states)\n",
    "        advantage = rl_utils.compute_advantage(self.gamma, self.lmbda,\n",
    "                                               td_delta.cpu()).to(self.device)\n",
    "        old_log_probs = torch.log(self.actor(states).gather(1,\n",
    "                                                            actions)).detach()\n",
    "\n",
    "        for _ in range(self.epochs):\n",
    "            log_probs = torch.log(self.actor(states).gather(1, actions))\n",
    "            ratio = torch.exp(log_probs - old_log_probs)\n",
    "            surr1 = ratio * advantage\n",
    "            surr2 = torch.clamp(ratio, 1 - self.eps,\n",
    "                                1 + self.eps) * advantage  # 截断\n",
    "            actor_loss = torch.mean(-torch.min(surr1, surr2))  # PPO损失函数\n",
    "            critic_loss = torch.mean(\n",
    "                F.mse_loss(self.critic(states), td_target.detach()))\n",
    "            self.actor_optimizer.zero_grad()\n",
    "            self.critic_optimizer.zero_grad()\n",
    "            actor_loss.backward()\n",
    "            critic_loss.backward()\n",
    "            self.actor_optimizer.step()\n",
    "            self.critic_optimizer.step()"
   ]
  },
  {
   "cell_type": "code",
   "execution_count": 47,
   "id": "c80cf77e",
   "metadata": {
    "ExecuteTime": {
     "end_time": "2024-03-03T21:40:27.194009Z",
     "start_time": "2024-03-03T21:40:27.186079Z"
    }
   },
   "outputs": [
    {
     "data": {
      "text/plain": [
       "array([0., 0., 0.])"
      ]
     },
     "execution_count": 47,
     "metadata": {},
     "output_type": "execute_result"
    }
   ],
   "source": [
    "actor_lr = 1e-3\n",
    "critic_lr = 1e-2\n",
    "num_episodes = 100\n",
    "hidden_dim = 128\n",
    "gamma = 0.98\n",
    "lmbda = 0.95\n",
    "epochs = 1000\n",
    "eps = 0.1\n",
    "device = torch.device(\"cuda\") if torch.cuda.is_available() else torch.device(\"cpu\")\n",
    "\n",
    "layer_key = [1, 2, 3]\n",
    "layer_materials = [material_database[key] for key in layer_key if key in layer_key]\n",
    "\n",
    "env = SimpleEnv(layer_materials)\n",
    "env.reset()"
   ]
  },
  {
   "cell_type": "code",
   "execution_count": 48,
   "id": "e920adc7",
   "metadata": {
    "ExecuteTime": {
     "end_time": "2024-03-03T21:40:38.762782Z",
     "start_time": "2024-03-03T21:40:29.077375Z"
    }
   },
   "outputs": [
    {
     "name": "stderr",
     "output_type": "stream",
     "text": [
      "Iteration 0:   0%|                                                                              | 0/10 [00:09<?, ?it/s]\n"
     ]
    },
    {
     "ename": "KeyboardInterrupt",
     "evalue": "",
     "output_type": "error",
     "traceback": [
      "\u001b[1;31m---------------------------------------------------------------------------\u001b[0m",
      "\u001b[1;31mKeyboardInterrupt\u001b[0m                         Traceback (most recent call last)",
      "Cell \u001b[1;32mIn[48], line 7\u001b[0m\n\u001b[0;32m      2\u001b[0m action_dim \u001b[38;5;241m=\u001b[39m env\u001b[38;5;241m.\u001b[39mnum_actions\n\u001b[0;32m      4\u001b[0m agent \u001b[38;5;241m=\u001b[39m PPO(state_dim, hidden_dim, action_dim, actor_lr, critic_lr, lmbda,\n\u001b[0;32m      5\u001b[0m             epochs, eps, gamma, device)\n\u001b[1;32m----> 7\u001b[0m return_list \u001b[38;5;241m=\u001b[39m \u001b[43mrl_utils\u001b[49m\u001b[38;5;241;43m.\u001b[39;49m\u001b[43mtrain_on_policy_agent\u001b[49m\u001b[43m(\u001b[49m\u001b[43menv\u001b[49m\u001b[43m,\u001b[49m\u001b[43m \u001b[49m\u001b[43magent\u001b[49m\u001b[43m,\u001b[49m\u001b[43m \u001b[49m\u001b[43mnum_episodes\u001b[49m\u001b[43m)\u001b[49m\n",
      "File \u001b[1;32m~\\RLHFPareto\\src\\rl_utils.py:50\u001b[0m, in \u001b[0;36mtrain_on_policy_agent\u001b[1;34m(env, agent, num_episodes)\u001b[0m\n\u001b[0;32m     48\u001b[0m     episode_return \u001b[38;5;241m+\u001b[39m\u001b[38;5;241m=\u001b[39m reward\n\u001b[0;32m     49\u001b[0m return_list\u001b[38;5;241m.\u001b[39mappend(episode_return)\n\u001b[1;32m---> 50\u001b[0m \u001b[43magent\u001b[49m\u001b[38;5;241;43m.\u001b[39;49m\u001b[43mupdate\u001b[49m\u001b[43m(\u001b[49m\u001b[43mtransition_dict\u001b[49m\u001b[43m)\u001b[49m\n\u001b[0;32m     51\u001b[0m \u001b[38;5;28;01mif\u001b[39;00m (i_episode\u001b[38;5;241m+\u001b[39m\u001b[38;5;241m1\u001b[39m) \u001b[38;5;241m%\u001b[39m \u001b[38;5;241m10\u001b[39m \u001b[38;5;241m==\u001b[39m \u001b[38;5;241m0\u001b[39m:\n\u001b[0;32m     52\u001b[0m     pbar\u001b[38;5;241m.\u001b[39mset_postfix({\u001b[38;5;124m'\u001b[39m\u001b[38;5;124mepisode\u001b[39m\u001b[38;5;124m'\u001b[39m: \u001b[38;5;124m'\u001b[39m\u001b[38;5;132;01m%d\u001b[39;00m\u001b[38;5;124m'\u001b[39m \u001b[38;5;241m%\u001b[39m (num_episodes\u001b[38;5;241m/\u001b[39m\u001b[38;5;241m10\u001b[39m \u001b[38;5;241m*\u001b[39m i \u001b[38;5;241m+\u001b[39m i_episode\u001b[38;5;241m+\u001b[39m\u001b[38;5;241m1\u001b[39m), \u001b[38;5;124m'\u001b[39m\u001b[38;5;124mreturn\u001b[39m\u001b[38;5;124m'\u001b[39m: \u001b[38;5;124m'\u001b[39m\u001b[38;5;132;01m%.3f\u001b[39;00m\u001b[38;5;124m'\u001b[39m \u001b[38;5;241m%\u001b[39m np\u001b[38;5;241m.\u001b[39mmean(return_list[\u001b[38;5;241m-\u001b[39m\u001b[38;5;241m10\u001b[39m:])})\n",
      "Cell \u001b[1;32mIn[46], line 76\u001b[0m, in \u001b[0;36mPPO.update\u001b[1;34m(self, transition_dict)\u001b[0m\n\u001b[0;32m     74\u001b[0m \u001b[38;5;28mself\u001b[39m\u001b[38;5;241m.\u001b[39mactor_optimizer\u001b[38;5;241m.\u001b[39mzero_grad()\n\u001b[0;32m     75\u001b[0m \u001b[38;5;28mself\u001b[39m\u001b[38;5;241m.\u001b[39mcritic_optimizer\u001b[38;5;241m.\u001b[39mzero_grad()\n\u001b[1;32m---> 76\u001b[0m \u001b[43mactor_loss\u001b[49m\u001b[38;5;241;43m.\u001b[39;49m\u001b[43mbackward\u001b[49m\u001b[43m(\u001b[49m\u001b[43m)\u001b[49m\n\u001b[0;32m     77\u001b[0m critic_loss\u001b[38;5;241m.\u001b[39mbackward()\n\u001b[0;32m     78\u001b[0m \u001b[38;5;28mself\u001b[39m\u001b[38;5;241m.\u001b[39mactor_optimizer\u001b[38;5;241m.\u001b[39mstep()\n",
      "File \u001b[1;32m~\\AppData\\Local\\Programs\\Python\\Python311\\Lib\\site-packages\\torch\\_tensor.py:522\u001b[0m, in \u001b[0;36mTensor.backward\u001b[1;34m(self, gradient, retain_graph, create_graph, inputs)\u001b[0m\n\u001b[0;32m    512\u001b[0m \u001b[38;5;28;01mif\u001b[39;00m has_torch_function_unary(\u001b[38;5;28mself\u001b[39m):\n\u001b[0;32m    513\u001b[0m     \u001b[38;5;28;01mreturn\u001b[39;00m handle_torch_function(\n\u001b[0;32m    514\u001b[0m         Tensor\u001b[38;5;241m.\u001b[39mbackward,\n\u001b[0;32m    515\u001b[0m         (\u001b[38;5;28mself\u001b[39m,),\n\u001b[1;32m   (...)\u001b[0m\n\u001b[0;32m    520\u001b[0m         inputs\u001b[38;5;241m=\u001b[39minputs,\n\u001b[0;32m    521\u001b[0m     )\n\u001b[1;32m--> 522\u001b[0m \u001b[43mtorch\u001b[49m\u001b[38;5;241;43m.\u001b[39;49m\u001b[43mautograd\u001b[49m\u001b[38;5;241;43m.\u001b[39;49m\u001b[43mbackward\u001b[49m\u001b[43m(\u001b[49m\n\u001b[0;32m    523\u001b[0m \u001b[43m    \u001b[49m\u001b[38;5;28;43mself\u001b[39;49m\u001b[43m,\u001b[49m\u001b[43m \u001b[49m\u001b[43mgradient\u001b[49m\u001b[43m,\u001b[49m\u001b[43m \u001b[49m\u001b[43mretain_graph\u001b[49m\u001b[43m,\u001b[49m\u001b[43m \u001b[49m\u001b[43mcreate_graph\u001b[49m\u001b[43m,\u001b[49m\u001b[43m \u001b[49m\u001b[43minputs\u001b[49m\u001b[38;5;241;43m=\u001b[39;49m\u001b[43minputs\u001b[49m\n\u001b[0;32m    524\u001b[0m \u001b[43m\u001b[49m\u001b[43m)\u001b[49m\n",
      "File \u001b[1;32m~\\AppData\\Local\\Programs\\Python\\Python311\\Lib\\site-packages\\torch\\autograd\\__init__.py:259\u001b[0m, in \u001b[0;36mbackward\u001b[1;34m(tensors, grad_tensors, retain_graph, create_graph, grad_variables, inputs)\u001b[0m\n\u001b[0;32m    250\u001b[0m inputs \u001b[38;5;241m=\u001b[39m (\n\u001b[0;32m    251\u001b[0m     (inputs,)\n\u001b[0;32m    252\u001b[0m     \u001b[38;5;28;01mif\u001b[39;00m \u001b[38;5;28misinstance\u001b[39m(inputs, (torch\u001b[38;5;241m.\u001b[39mTensor, graph\u001b[38;5;241m.\u001b[39mGradientEdge))\n\u001b[1;32m   (...)\u001b[0m\n\u001b[0;32m    255\u001b[0m     \u001b[38;5;28;01melse\u001b[39;00m \u001b[38;5;28mtuple\u001b[39m()\n\u001b[0;32m    256\u001b[0m )\n\u001b[0;32m    258\u001b[0m grad_tensors_ \u001b[38;5;241m=\u001b[39m _tensor_or_tensors_to_tuple(grad_tensors, \u001b[38;5;28mlen\u001b[39m(tensors))\n\u001b[1;32m--> 259\u001b[0m grad_tensors_ \u001b[38;5;241m=\u001b[39m \u001b[43m_make_grads\u001b[49m\u001b[43m(\u001b[49m\u001b[43mtensors\u001b[49m\u001b[43m,\u001b[49m\u001b[43m \u001b[49m\u001b[43mgrad_tensors_\u001b[49m\u001b[43m,\u001b[49m\u001b[43m \u001b[49m\u001b[43mis_grads_batched\u001b[49m\u001b[38;5;241;43m=\u001b[39;49m\u001b[38;5;28;43;01mFalse\u001b[39;49;00m\u001b[43m)\u001b[49m\n\u001b[0;32m    260\u001b[0m \u001b[38;5;28;01mif\u001b[39;00m retain_graph \u001b[38;5;129;01mis\u001b[39;00m \u001b[38;5;28;01mNone\u001b[39;00m:\n\u001b[0;32m    261\u001b[0m     retain_graph \u001b[38;5;241m=\u001b[39m create_graph\n",
      "File \u001b[1;32m~\\AppData\\Local\\Programs\\Python\\Python311\\Lib\\site-packages\\torch\\autograd\\__init__.py:142\u001b[0m, in \u001b[0;36m_make_grads\u001b[1;34m(outputs, grads, is_grads_batched)\u001b[0m\n\u001b[0;32m    136\u001b[0m         msg \u001b[38;5;241m=\u001b[39m (\n\u001b[0;32m    137\u001b[0m             \u001b[38;5;124m\"\u001b[39m\u001b[38;5;124mgrad can be implicitly created only for real scalar outputs\u001b[39m\u001b[38;5;124m\"\u001b[39m\n\u001b[0;32m    138\u001b[0m             \u001b[38;5;124mf\u001b[39m\u001b[38;5;124m\"\u001b[39m\u001b[38;5;124m but got \u001b[39m\u001b[38;5;132;01m{\u001b[39;00mout\u001b[38;5;241m.\u001b[39mdtype\u001b[38;5;132;01m}\u001b[39;00m\u001b[38;5;124m\"\u001b[39m\n\u001b[0;32m    139\u001b[0m         )\n\u001b[0;32m    140\u001b[0m         \u001b[38;5;28;01mraise\u001b[39;00m \u001b[38;5;167;01mRuntimeError\u001b[39;00m(msg)\n\u001b[0;32m    141\u001b[0m     new_grads\u001b[38;5;241m.\u001b[39mappend(\n\u001b[1;32m--> 142\u001b[0m         \u001b[43mtorch\u001b[49m\u001b[38;5;241;43m.\u001b[39;49m\u001b[43mones_like\u001b[49m\u001b[43m(\u001b[49m\u001b[43mout\u001b[49m\u001b[43m,\u001b[49m\u001b[43m \u001b[49m\u001b[43mmemory_format\u001b[49m\u001b[38;5;241;43m=\u001b[39;49m\u001b[43mtorch\u001b[49m\u001b[38;5;241;43m.\u001b[39;49m\u001b[43mpreserve_format\u001b[49m\u001b[43m)\u001b[49m\n\u001b[0;32m    143\u001b[0m     )\n\u001b[0;32m    144\u001b[0m \u001b[38;5;28;01melse\u001b[39;00m:\n\u001b[0;32m    145\u001b[0m     new_grads\u001b[38;5;241m.\u001b[39mappend(\u001b[38;5;28;01mNone\u001b[39;00m)\n",
      "\u001b[1;31mKeyboardInterrupt\u001b[0m: "
     ]
    }
   ],
   "source": [
    "state_dim = env.num_states\n",
    "action_dim = env.num_actions\n",
    "\n",
    "agent = PPO(state_dim, hidden_dim, action_dim, actor_lr, critic_lr, lmbda,\n",
    "            epochs, eps, gamma, device)\n",
    "\n",
    "return_list = rl_utils.train_on_policy_agent(env, agent, num_episodes)"
   ]
  },
  {
   "cell_type": "code",
   "execution_count": 28,
   "id": "af4ff984",
   "metadata": {
    "ExecuteTime": {
     "end_time": "2024-03-03T21:27:52.682530Z",
     "start_time": "2024-03-03T21:27:52.447219Z"
    }
   },
   "outputs": [
    {
     "data": {
      "image/png": "[encoded data removed]",
      "text/plain": [
       "<Figure size 640x480 with 1 Axes>"
      ]
     },
     "metadata": {},
     "output_type": "display_data"
    },
    {
     "data": {
      "image/png": "[encoded data removed]",
      "text/plain": [
       "<Figure size 640x480 with 1 Axes>"
      ]
     },
     "metadata": {},
     "output_type": "display_data"
    }
   ],
   "source": [
    "episodes_list = list(range(len(return_list)))\n",
    "plt.plot(episodes_list, [x/epochs for x in return_list])\n",
    "plt.xlabel('Episodes')\n",
    "plt.ylabel('Returns')\n",
    "plt.show()\n",
    "\n",
    "mv_return = rl_utils.moving_average(return_list, 21)\n",
    "plt.plot(episodes_list, [x/epochs for x in mv_return])\n",
    "plt.xlabel('Episodes')\n",
    "plt.ylabel('Returns')\n",
    "plt.show()"
   ]
  }
 ],
 "metadata": {
  "kernelspec": {
   "display_name": "Python 3 (ipykernel)",
   "language": "python",
   "name": "python3"
  },
  "language_info": {
   "codemirror_mode": {
    "name": "ipython",
    "version": 3
   },
   "file_extension": ".py",
   "mimetype": "text/x-python",
   "name": "python",
   "nbconvert_exporter": "python",
   "pygments_lexer": "ipython3",
   "version": "3.11.3"
  }
 },
 "nbformat": 4,
 "nbformat_minor": 5
}
