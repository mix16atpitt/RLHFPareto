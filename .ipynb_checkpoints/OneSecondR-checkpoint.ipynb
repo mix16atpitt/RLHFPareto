{
 "cells": [
  {
   "cell_type": "code",
   "execution_count": 2,
   "id": "8d571516",
   "metadata": {
    "ExecuteTime": {
     "end_time": "2024-02-26T10:18:58.721873Z",
     "start_time": "2024-02-26T10:18:57.912521Z"
    }
   },
   "outputs": [
    {
     "ename": "ModuleNotFoundError",
     "evalue": "No module named 'utils'",
     "output_type": "error",
     "traceback": [
      "\u001b[1;31m---------------------------------------------------------------------------\u001b[0m",
      "\u001b[1;31mModuleNotFoundError\u001b[0m                       Traceback (most recent call last)",
      "Cell \u001b[1;32mIn[2], line 2\u001b[0m\n\u001b[0;32m      1\u001b[0m \u001b[38;5;28;01mfrom\u001b[39;00m \u001b[38;5;21;01msrc\u001b[39;00m\u001b[38;5;21;01m.\u001b[39;00m\u001b[38;5;21;01mfdtd_solver\u001b[39;00m \u001b[38;5;28;01mimport\u001b[39;00m FDTDSolver\n\u001b[1;32m----> 2\u001b[0m \u001b[38;5;28;01mfrom\u001b[39;00m \u001b[38;5;21;01msrc\u001b[39;00m\u001b[38;5;21;01m.\u001b[39;00m\u001b[38;5;21;01mRF_index\u001b[39;00m \u001b[38;5;28;01mimport\u001b[39;00m RFIndex\n\u001b[0;32m      3\u001b[0m \u001b[38;5;28;01mimport\u001b[39;00m \u001b[38;5;21;01mnumpy\u001b[39;00m \u001b[38;5;28;01mas\u001b[39;00m \u001b[38;5;21;01mnp\u001b[39;00m\n",
      "File \u001b[1;32m~\\RLHFPareto\\src\\RF_index.py:2\u001b[0m\n\u001b[0;32m      1\u001b[0m \u001b[38;5;28;01mimport\u001b[39;00m \u001b[38;5;21;01mnumpy\u001b[39;00m \u001b[38;5;28;01mas\u001b[39;00m \u001b[38;5;21;01mnp\u001b[39;00m\n\u001b[1;32m----> 2\u001b[0m \u001b[38;5;28;01mfrom\u001b[39;00m \u001b[38;5;21;01mutils\u001b[39;00m \u001b[38;5;28;01mimport\u001b[39;00m c\n\u001b[0;32m      3\u001b[0m \u001b[38;5;66;03m# for non metals, use the index at 20um because the end of solar band we simulate is 20um we are sure we have data here\u001b[39;00m\n\u001b[0;32m      4\u001b[0m \u001b[38;5;66;03m# Frequency corresponding to 20um\u001b[39;00m\n\u001b[0;32m      5\u001b[0m freq_20um \u001b[38;5;241m=\u001b[39m c \u001b[38;5;241m/\u001b[39m \u001b[38;5;241m20e-6\u001b[39m\n",
      "\u001b[1;31mModuleNotFoundError\u001b[0m: No module named 'utils'"
     ]
    }
   ],
   "source": [
    "from src.fdtd_solver import FDTDSolver\n",
    "from src.RF_index import RFIndex\n",
    "import numpy as np"
   ]
  },
  {
   "cell_type": "code",
   "execution_count": null,
   "id": "7796db7c",
   "metadata": {},
   "outputs": [],
   "source": [
    "class SESimulation:\n",
    "    def __init__(self, layer_materials, layer_thicknesses, solver):\n",
    "\n",
    "        self.layer_materials = layer_materials\n",
    "        self.layer_thicknesses = layer_thicknesses\n",
    "        self.fdtd_solver = solver\n",
    "\n",
    "        # Define frequency vectors for simulation\n",
    "        self.f_vector = np.linspace(8e9, 18e9, 100)\n",
    "\n",
    "    def perform_stackrt_simulation(self, n_matrix, f_vector):\n",
    "        return self.fdtd_solver.stackrt(n_matrix, self.layer_thicknesses, f_vector, 0)\n",
    "\n",
    "    def calculate_SE(self, RT):\n",
    "        Ts = RT['Ts']\n",
    "        Tp = RT['Tp']\n",
    "        SE_Ts = -10 * np.log10(Ts)\n",
    "        SE_Tp = -10 * np.log10(Tp)\n",
    "        \n",
    "        SE_Ts_mean = np.mean(SE_Ts)\n",
    "        SE_Tp_mean = np.mean(SE_Tp)\n",
    "\n",
    "        SE = (SE_Tp_mean + SE_Ts_mean) / 2\n",
    "        return SE\n",
    "\n",
    "    def run_simulation(self):\n",
    "        # Create refractive index matrix\n",
    "        n_matrix = RFIndex.create_matrix(self.fdtd_solver, self.layer_materials, self.f_vector)\n",
    "\n",
    "        # Perform stackrt simulation\n",
    "        RT = self.perform_stackrt_simulation(n_matrix, self.f_vector)\n",
    "\n",
    "        # Calculate Spectral Efficiency (SE)\n",
    "        SE = self.calculate_SE(RT)\n",
    "\n",
    "        # Output results\n",
    "        print(f'stackrt: SE {SE:.4f}')\n",
    "        return SE\n",
    "\n",
    "# Example usage\n",
    "if __name__ == \"__main__\":\n",
    "    # Define layer materials and thicknesses\n",
    "    layer_materials = ['Air', 'TiO2 (Titanium Dioxide) - Siefke', 'SiO2 (Glass) - Palik',\n",
    "                        'TiO2 (Titanium Dioxide) - Siefke', 'Cr (Chromium) - CRC', 'SiO2 (Glass) - Palik',\n",
    "                        'Cr (Chromium) - Palik', 'Air']\n",
    "    layer_thicknesses = np.array([0, 24e-9, 141e-9, 153e-9, 18e-9, 135e-9, 164e-9, 0])\n",
    "\n",
    "    # Initialize and run the simulation\n",
    "    solver = FDTDSolver()\n",
    "    simulation = SESimulation(layer_materials, layer_thicknesses, solver)\n",
    "    simulation.run_simulation()"
   ]
  }
 ],
 "metadata": {
  "kernelspec": {
   "display_name": "Python 3 (ipykernel)",
   "language": "python",
   "name": "python3"
  },
  "language_info": {
   "codemirror_mode": {
    "name": "ipython",
    "version": 3
   },
   "file_extension": ".py",
   "mimetype": "text/x-python",
   "name": "python",
   "nbconvert_exporter": "python",
   "pygments_lexer": "ipython3",
   "version": "3.11.3"
  }
 },
 "nbformat": 4,
 "nbformat_minor": 5
}
