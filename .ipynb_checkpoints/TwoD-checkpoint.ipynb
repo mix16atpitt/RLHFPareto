{
 "cells": [
  {
   "cell_type": "code",
   "execution_count": 1,
   "id": "6a6853c5",
   "metadata": {
    "ExecuteTime": {
     "end_time": "2024-02-16T03:48:13.320906Z",
     "start_time": "2024-02-16T03:48:07.969356Z"
    }
   },
   "outputs": [],
   "source": [
    "import numpy as np, numpy.random\n",
    "import pandas as pd\n",
    "import matplotlib.pyplot as plt\n",
    "\n",
    "import torch\n",
    "import torch.nn as nn\n",
    "import torch.optim as optim\n",
    "\n",
    "from tqdm import tqdm"
   ]
  },
  {
   "cell_type": "code",
   "execution_count": 2,
   "id": "4b49062e",
   "metadata": {
    "ExecuteTime": {
     "end_time": "2024-02-16T03:48:13.988328Z",
     "start_time": "2024-02-16T03:48:13.975388Z"
    }
   },
   "outputs": [],
   "source": [
    "def set_seed(random_seed):\n",
    "#     random.seed(random_seed)\n",
    "    torch.cuda.manual_seed(random_seed)\n",
    "    torch.cuda.manual_seed_all(random_seed)\n",
    "    np.random.seed(random_seed)\n",
    "    torch.manual_seed(random_seed)\n",
    "    torch.backends.cudnn.benckmark = False\n",
    "    torch.backends.cudnn.deterministic = True\n",
    "    torch.set_default_dtype(torch.float32)\n",
    "    \n",
    "set_seed(2024)"
   ]
  },
  {
   "cell_type": "code",
   "execution_count": 3,
   "id": "cb598935",
   "metadata": {
    "ExecuteTime": {
     "end_time": "2024-02-16T03:48:15.751605Z",
     "start_time": "2024-02-16T03:48:15.186793Z"
    },
    "scrolled": true
   },
   "outputs": [
    {
     "name": "stdout",
     "output_type": "stream",
     "text": [
      "Is CUDA supported by this system? True\n",
      "CUDA version: 11.8\n",
      "ID of current CUDA device: 0\n",
      "Name of current CUDA device: Quadro M1000M\n"
     ]
    }
   ],
   "source": [
    "# Check CUDA\n",
    " \n",
    "print(f\"Is CUDA supported by this system? {torch.cuda.is_available()}\")\n",
    "print(f\"CUDA version: {torch.version.cuda}\")\n",
    " \n",
    "# Storing ID of current CUDA device\n",
    "cuda_id = torch.cuda.current_device()\n",
    "print(f\"ID of current CUDA device: {torch.cuda.current_device()}\")\n",
    "       \n",
    "print(f\"Name of current CUDA device: {torch.cuda.get_device_name(cuda_id)}\")"
   ]
  },
  {
   "cell_type": "code",
   "execution_count": 4,
   "id": "a75db29c",
   "metadata": {
    "ExecuteTime": {
     "end_time": "2024-02-16T03:48:17.631165Z",
     "start_time": "2024-02-16T03:48:17.589937Z"
    }
   },
   "outputs": [
    {
     "data": {
      "text/html": [
       "<div>\n",
       "<style scoped>\n",
       "    .dataframe tbody tr th:only-of-type {\n",
       "        vertical-align: middle;\n",
       "    }\n",
       "\n",
       "    .dataframe tbody tr th {\n",
       "        vertical-align: top;\n",
       "    }\n",
       "\n",
       "    .dataframe thead th {\n",
       "        text-align: right;\n",
       "    }\n",
       "</style>\n",
       "<table border=\"1\" class=\"dataframe\">\n",
       "  <thead>\n",
       "    <tr style=\"text-align: right;\">\n",
       "      <th></th>\n",
       "      <th>parameter-bott</th>\n",
       "      <th>parameter-cbbotr</th>\n",
       "      <th>parameter-cbheight</th>\n",
       "      <th>parameter-cbotr</th>\n",
       "      <th>parameter-cbtopr</th>\n",
       "      <th>parameter-cheight</th>\n",
       "      <th>parameter-ctopr</th>\n",
       "      <th>parameter-pitch</th>\n",
       "      <th>parameter-silvert</th>\n",
       "      <th>parameter-topt</th>\n",
       "    </tr>\n",
       "  </thead>\n",
       "  <tbody>\n",
       "    <tr>\n",
       "      <th>0</th>\n",
       "      <td>95.718148</td>\n",
       "      <td>43.354505</td>\n",
       "      <td>216.598869</td>\n",
       "      <td>60.874317</td>\n",
       "      <td>131.467336</td>\n",
       "      <td>167.252109</td>\n",
       "      <td>34.541709</td>\n",
       "      <td>327.772442</td>\n",
       "      <td>5.402554</td>\n",
       "      <td>78.748219</td>\n",
       "    </tr>\n",
       "    <tr>\n",
       "      <th>1</th>\n",
       "      <td>57.192794</td>\n",
       "      <td>68.338471</td>\n",
       "      <td>146.439212</td>\n",
       "      <td>123.218142</td>\n",
       "      <td>92.990379</td>\n",
       "      <td>660.143754</td>\n",
       "      <td>110.076490</td>\n",
       "      <td>384.452082</td>\n",
       "      <td>13.987269</td>\n",
       "      <td>43.500956</td>\n",
       "    </tr>\n",
       "    <tr>\n",
       "      <th>2</th>\n",
       "      <td>48.759242</td>\n",
       "      <td>66.320557</td>\n",
       "      <td>946.568699</td>\n",
       "      <td>165.201964</td>\n",
       "      <td>79.994531</td>\n",
       "      <td>490.872671</td>\n",
       "      <td>78.274344</td>\n",
       "      <td>338.646017</td>\n",
       "      <td>3.293220</td>\n",
       "      <td>71.431971</td>\n",
       "    </tr>\n",
       "    <tr>\n",
       "      <th>3</th>\n",
       "      <td>76.378067</td>\n",
       "      <td>7.885207</td>\n",
       "      <td>79.406897</td>\n",
       "      <td>91.347128</td>\n",
       "      <td>108.114417</td>\n",
       "      <td>282.759484</td>\n",
       "      <td>31.222274</td>\n",
       "      <td>343.268350</td>\n",
       "      <td>15.507130</td>\n",
       "      <td>77.861851</td>\n",
       "    </tr>\n",
       "    <tr>\n",
       "      <th>4</th>\n",
       "      <td>42.933965</td>\n",
       "      <td>13.041809</td>\n",
       "      <td>608.350193</td>\n",
       "      <td>165.886507</td>\n",
       "      <td>168.164578</td>\n",
       "      <td>12.599300</td>\n",
       "      <td>49.941049</td>\n",
       "      <td>362.320432</td>\n",
       "      <td>14.774567</td>\n",
       "      <td>71.680716</td>\n",
       "    </tr>\n",
       "  </tbody>\n",
       "</table>\n",
       "</div>"
      ],
      "text/plain": [
       "   parameter-bott  parameter-cbbotr  parameter-cbheight  parameter-cbotr  \\\n",
       "0       95.718148         43.354505          216.598869        60.874317   \n",
       "1       57.192794         68.338471          146.439212       123.218142   \n",
       "2       48.759242         66.320557          946.568699       165.201964   \n",
       "3       76.378067          7.885207           79.406897        91.347128   \n",
       "4       42.933965         13.041809          608.350193       165.886507   \n",
       "\n",
       "   parameter-cbtopr  parameter-cheight  parameter-ctopr  parameter-pitch  \\\n",
       "0        131.467336         167.252109        34.541709       327.772442   \n",
       "1         92.990379         660.143754       110.076490       384.452082   \n",
       "2         79.994531         490.872671        78.274344       338.646017   \n",
       "3        108.114417         282.759484        31.222274       343.268350   \n",
       "4        168.164578          12.599300        49.941049       362.320432   \n",
       "\n",
       "   parameter-silvert  parameter-topt  \n",
       "0           5.402554       78.748219  \n",
       "1          13.987269       43.500956  \n",
       "2           3.293220       71.431971  \n",
       "3          15.507130       77.861851  \n",
       "4          14.774567       71.680716  "
      ]
     },
     "execution_count": 4,
     "metadata": {},
     "output_type": "execute_result"
    }
   ],
   "source": [
    "csvFile = pd.read_csv('Dataset/structure4.csv')\n",
    "df_parameter = csvFile.iloc[:, :10]\n",
    "\n",
    "df_SE = csvFile.iloc[:, 10:11]\n",
    "df_Tvis = csvFile.iloc[:, 12:13] * 100\n",
    "df_metric = pd.concat([df_Tvis, df_SE], axis=1)\n",
    "\n",
    "df_parameter.head()"
   ]
  },
  {
   "cell_type": "code",
   "execution_count": 5,
   "id": "2524c7b7",
   "metadata": {
    "ExecuteTime": {
     "end_time": "2024-02-16T03:48:21.935037Z",
     "start_time": "2024-02-16T03:48:21.925918Z"
    }
   },
   "outputs": [
    {
     "data": {
      "text/plain": [
       "parameter-bott         100.0\n",
       "parameter-cbbotr       200.0\n",
       "parameter-cbheight    1000.0\n",
       "parameter-cbotr        200.0\n",
       "parameter-cbtopr       200.0\n",
       "parameter-cheight     1000.0\n",
       "parameter-ctopr        200.0\n",
       "parameter-pitch        400.0\n",
       "parameter-silvert       20.0\n",
       "parameter-topt         100.0\n",
       "dtype: float64"
      ]
     },
     "execution_count": 5,
     "metadata": {},
     "output_type": "execute_result"
    }
   ],
   "source": [
    "max_values_parameter = df_parameter.max()\n",
    "max_values_parameter"
   ]
  },
  {
   "cell_type": "code",
   "execution_count": 6,
   "id": "4c3e329f",
   "metadata": {
    "ExecuteTime": {
     "end_time": "2024-02-16T03:48:23.067216Z",
     "start_time": "2024-02-16T03:48:23.052617Z"
    }
   },
   "outputs": [
    {
     "data": {
      "text/html": [
       "<div>\n",
       "<style scoped>\n",
       "    .dataframe tbody tr th:only-of-type {\n",
       "        vertical-align: middle;\n",
       "    }\n",
       "\n",
       "    .dataframe tbody tr th {\n",
       "        vertical-align: top;\n",
       "    }\n",
       "\n",
       "    .dataframe thead th {\n",
       "        text-align: right;\n",
       "    }\n",
       "</style>\n",
       "<table border=\"1\" class=\"dataframe\">\n",
       "  <thead>\n",
       "    <tr style=\"text-align: right;\">\n",
       "      <th></th>\n",
       "      <th>parameter-bott</th>\n",
       "      <th>parameter-cbbotr</th>\n",
       "      <th>parameter-cbheight</th>\n",
       "      <th>parameter-cbotr</th>\n",
       "      <th>parameter-cbtopr</th>\n",
       "      <th>parameter-cheight</th>\n",
       "      <th>parameter-ctopr</th>\n",
       "      <th>parameter-pitch</th>\n",
       "      <th>parameter-silvert</th>\n",
       "      <th>parameter-topt</th>\n",
       "    </tr>\n",
       "  </thead>\n",
       "  <tbody>\n",
       "    <tr>\n",
       "      <th>0</th>\n",
       "      <td>0.957181</td>\n",
       "      <td>0.216773</td>\n",
       "      <td>0.216599</td>\n",
       "      <td>0.304372</td>\n",
       "      <td>0.657337</td>\n",
       "      <td>0.167252</td>\n",
       "      <td>0.172709</td>\n",
       "      <td>0.819431</td>\n",
       "      <td>0.270128</td>\n",
       "      <td>0.787482</td>\n",
       "    </tr>\n",
       "    <tr>\n",
       "      <th>1</th>\n",
       "      <td>0.571928</td>\n",
       "      <td>0.341692</td>\n",
       "      <td>0.146439</td>\n",
       "      <td>0.616091</td>\n",
       "      <td>0.464952</td>\n",
       "      <td>0.660144</td>\n",
       "      <td>0.550382</td>\n",
       "      <td>0.961130</td>\n",
       "      <td>0.699363</td>\n",
       "      <td>0.435010</td>\n",
       "    </tr>\n",
       "    <tr>\n",
       "      <th>2</th>\n",
       "      <td>0.487592</td>\n",
       "      <td>0.331603</td>\n",
       "      <td>0.946569</td>\n",
       "      <td>0.826010</td>\n",
       "      <td>0.399973</td>\n",
       "      <td>0.490873</td>\n",
       "      <td>0.391372</td>\n",
       "      <td>0.846615</td>\n",
       "      <td>0.164661</td>\n",
       "      <td>0.714320</td>\n",
       "    </tr>\n",
       "    <tr>\n",
       "      <th>3</th>\n",
       "      <td>0.763781</td>\n",
       "      <td>0.039426</td>\n",
       "      <td>0.079407</td>\n",
       "      <td>0.456736</td>\n",
       "      <td>0.540572</td>\n",
       "      <td>0.282759</td>\n",
       "      <td>0.156111</td>\n",
       "      <td>0.858171</td>\n",
       "      <td>0.775356</td>\n",
       "      <td>0.778619</td>\n",
       "    </tr>\n",
       "    <tr>\n",
       "      <th>4</th>\n",
       "      <td>0.429340</td>\n",
       "      <td>0.065209</td>\n",
       "      <td>0.608350</td>\n",
       "      <td>0.829433</td>\n",
       "      <td>0.840823</td>\n",
       "      <td>0.012599</td>\n",
       "      <td>0.249705</td>\n",
       "      <td>0.905801</td>\n",
       "      <td>0.738728</td>\n",
       "      <td>0.716807</td>\n",
       "    </tr>\n",
       "  </tbody>\n",
       "</table>\n",
       "</div>"
      ],
      "text/plain": [
       "   parameter-bott  parameter-cbbotr  parameter-cbheight  parameter-cbotr  \\\n",
       "0        0.957181          0.216773            0.216599         0.304372   \n",
       "1        0.571928          0.341692            0.146439         0.616091   \n",
       "2        0.487592          0.331603            0.946569         0.826010   \n",
       "3        0.763781          0.039426            0.079407         0.456736   \n",
       "4        0.429340          0.065209            0.608350         0.829433   \n",
       "\n",
       "   parameter-cbtopr  parameter-cheight  parameter-ctopr  parameter-pitch  \\\n",
       "0          0.657337           0.167252         0.172709         0.819431   \n",
       "1          0.464952           0.660144         0.550382         0.961130   \n",
       "2          0.399973           0.490873         0.391372         0.846615   \n",
       "3          0.540572           0.282759         0.156111         0.858171   \n",
       "4          0.840823           0.012599         0.249705         0.905801   \n",
       "\n",
       "   parameter-silvert  parameter-topt  \n",
       "0           0.270128        0.787482  \n",
       "1           0.699363        0.435010  \n",
       "2           0.164661        0.714320  \n",
       "3           0.775356        0.778619  \n",
       "4           0.738728        0.716807  "
      ]
     },
     "execution_count": 6,
     "metadata": {},
     "output_type": "execute_result"
    }
   ],
   "source": [
    "# Normalization Parameters\n",
    "df_parameter_norm = df_parameter / max_values_parameter\n",
    "df_parameter_norm.head()"
   ]
  },
  {
   "cell_type": "code",
   "execution_count": 15,
   "id": "6673ecdf",
   "metadata": {
    "ExecuteTime": {
     "end_time": "2024-02-16T03:54:12.329640Z",
     "start_time": "2024-02-16T03:54:12.320896Z"
    }
   },
   "outputs": [
    {
     "data": {
      "text/plain": [
       "value-Transmission    98.0440\n",
       "value-EMI_SE          47.5501\n",
       "dtype: float64"
      ]
     },
     "execution_count": 15,
     "metadata": {},
     "output_type": "execute_result"
    }
   ],
   "source": [
    "max_values_metric = df_metric.max()\n",
    "max_values_metric"
   ]
  },
  {
   "cell_type": "code",
   "execution_count": 16,
   "id": "adbdc1db",
   "metadata": {
    "ExecuteTime": {
     "end_time": "2024-02-16T03:54:13.964232Z",
     "start_time": "2024-02-16T03:54:13.827304Z"
    }
   },
   "outputs": [
    {
     "data": {
      "text/plain": [
       "<function matplotlib.pyplot.show(close=None, block=None)>"
      ]
     },
     "execution_count": 16,
     "metadata": {},
     "output_type": "execute_result"
    },
    {
     "data": {
      "image/png": "[encoded data removed]",
      "text/plain": [
       "<Figure size 640x480 with 1 Axes>"
      ]
     },
     "metadata": {},
     "output_type": "display_data"
    }
   ],
   "source": [
    "# Normalization Metrics (Tested: No Difference)\n",
    "\n",
    "SE_max = 120\n",
    "Tvis_max = 100\n",
    "\n",
    "df_SE_norm = df_SE / SE_max\n",
    "df_Tvis_norm = df_Tvis / Tvis_max\n",
    "df_metric_norm = pd.concat([df_Tvis_norm, df_SE_norm], axis=1)\n",
    "\n",
    "plt.scatter(df_Tvis_norm, df_SE_norm, s=0.1)\n",
    "plt.xlabel(\"Tvis(%)_norm\")\n",
    "plt.ylabel(\"SE_norm\")\n",
    "plt.show"
   ]
  },
  {
   "cell_type": "code",
   "execution_count": 9,
   "id": "726d0d7c",
   "metadata": {
    "ExecuteTime": {
     "end_time": "2024-02-15T12:27:02.536828Z",
     "start_time": "2024-02-15T12:27:02.357661Z"
    }
   },
   "outputs": [
    {
     "data": {
      "text/plain": [
       "<function matplotlib.pyplot.show(close=None, block=None)>"
      ]
     },
     "execution_count": 9,
     "metadata": {},
     "output_type": "execute_result"
    },
    {
     "data": {
      "image/png": "[encoded data removed]",
      "text/plain": [
       "<Figure size 640x480 with 1 Axes>"
      ]
     },
     "metadata": {},
     "output_type": "display_data"
    }
   ],
   "source": [
    "plt.scatter(df_Tvis, df_SE, s=0.1)\n",
    "plt.xlabel(\"Tvis(%)\")\n",
    "plt.ylabel(\"SE\")\n",
    "plt.show"
   ]
  },
  {
   "cell_type": "markdown",
   "id": "f93b3392",
   "metadata": {},
   "source": [
    "Dataset for Reward Model, $\\forall x$: function $r_\\theta : \\mathcal{Y} \\mapsto z$\n",
    "\n",
    "$x$: 2d vector sum to 1\n",
    "\n",
    "$y_i, y_j$: indicate by index\n",
    "\n",
    "$z_{y_i, y_j | x}$: preference output\n",
    "\n",
    "Data for Pretrained Base Pareto Model: function $f_\\theta : \\mathcal{X} \\mapsto \\mathcal{Y}$\n",
    "\n",
    "this can be trained naively: choose the best completion $y_i$ under the most weighted metric(s)"
   ]
  },
  {
   "cell_type": "code",
   "execution_count": 17,
   "id": "89eb8796",
   "metadata": {
    "ExecuteTime": {
     "end_time": "2024-02-16T03:54:18.171772Z",
     "start_time": "2024-02-16T03:54:18.057486Z"
    }
   },
   "outputs": [
    {
     "name": "stderr",
     "output_type": "stream",
     "text": [
      "100%|██████████████████████████████████████████████████████████████████████████████| 100/100 [00:00<00:00, 1128.58it/s]\n"
     ]
    }
   ],
   "source": [
    "# Generate Dataset for Reward Model and Pretrained Base Pareto Model\n",
    "parameter_mat = df_parameter_norm.to_numpy()\n",
    "metric_mat = df_metric_norm.to_numpy()\n",
    "\n",
    "dim_x = 2\n",
    "dim_y = len(df_parameter_norm.columns)\n",
    "x_n = 100\n",
    "y_n = len(df_parameter_norm)\n",
    "\n",
    "Xset = []\n",
    "Yset = []\n",
    "Zset = []\n",
    "Mset = []\n",
    "Rset = []\n",
    "\n",
    "for i in tqdm(range(x_n)):\n",
    "    x = np.array(([i/x_n, 1-i/x_n]))\n",
    "    Xset.append(x.flatten())\n",
    "    value_x = np.dot(metric_mat, x.T)\n",
    "\n",
    "    index_sorted = sorted(range(len(value_x)), key=lambda k: value_x[k])\n",
    "    Yset.append(parameter_mat[index_sorted[-1]])\n",
    "    Mset.append(metric_mat[index_sorted[-1]])\n",
    "\n",
    "    \n",
    "    # Reward Dataset Design\n",
    "    Rset.append(np.array([value_x]).T)\n",
    "        \n",
    "#     z_mat = [[0 for i in range(y_n)] for j in range(y_n)]\n",
    "    \n",
    "#     for j in range(y_n):\n",
    "#         z_mat[index_sorted[j]][index_sorted[j]] = np.random.binomial(1, 0.5, 1)\n",
    "#         for k in range(1, y_n - j):\n",
    "#             z_mat[index_sorted[j]][index_sorted[k]] = 1\n",
    "#             z_mat[index_sorted[k]][index_sorted[j]] = 0\n",
    "            \n",
    "#     Zset.append(z_mat)\n"
   ]
  },
  {
   "cell_type": "code",
   "execution_count": 18,
   "id": "6a723e97",
   "metadata": {
    "ExecuteTime": {
     "end_time": "2024-02-16T03:54:21.187985Z",
     "start_time": "2024-02-16T03:54:21.070344Z"
    }
   },
   "outputs": [
    {
     "data": {
      "image/png": "[encoded data removed]",
      "text/plain": [
       "<Figure size 640x480 with 1 Axes>"
      ]
     },
     "metadata": {},
     "output_type": "display_data"
    }
   ],
   "source": [
    "# Pareto from Data for Pretrain base model\n",
    "\n",
    "plt.scatter([Mset[i][0] for i in range(x_n)], [Mset[i][1] for i in range(x_n)], s=0.1)\n",
    "plt.xlabel(\"Tvis(%)\")\n",
    "plt.ylabel(\"SE\")\n",
    "plt.show()"
   ]
  },
  {
   "cell_type": "code",
   "execution_count": null,
   "id": "58e70ace",
   "metadata": {},
   "outputs": [],
   "source": [
    "# Pretrain base model should return a parameterized distribution of Pareto (policy network)\n",
    "\n"
   ]
  },
  {
   "cell_type": "code",
   "execution_count": 12,
   "id": "c1331ab3",
   "metadata": {
    "ExecuteTime": {
     "end_time": "2024-02-15T12:27:12.237761Z",
     "start_time": "2024-02-15T12:27:02.820911Z"
    }
   },
   "outputs": [
    {
     "name": "stderr",
     "output_type": "stream",
     "text": [
      "100%|██████████████████████████████████████████████████████████████████████████| 10000/10000 [00:09<00:00, 1092.06it/s]\n"
     ]
    },
    {
     "name": "stdout",
     "output_type": "stream",
     "text": [
      "Predicted Output: tensor([[ 45.7867,  52.2498,  77.8926,  22.8041,  49.1946, 141.7164,  12.6815,\n",
      "         329.5996,  12.0091,  46.2767]])\n"
     ]
    },
    {
     "data": {
      "image/png": "[encoded data removed]",
      "text/plain": [
       "<Figure size 640x480 with 1 Axes>"
      ]
     },
     "metadata": {},
     "output_type": "display_data"
    }
   ],
   "source": [
    "# # Pretrain base model of Pareto\n",
    "# class TwoToTenNet(nn.Module):\n",
    "#     def __init__(self, state_dim, action_dim, hidden_size=64):\n",
    "#         super(TwoToTenNet, self).__init__()\n",
    "#         self.fc1 = nn.Linear(state_dim, hidden_size)\n",
    "#         self.fc2 = nn.Linear(hidden_size, action_dim)\n",
    "\n",
    "#     def forward(self, state):\n",
    "#         state = torch.relu(self.fc1(state))  # ReLU activation for the first layer\n",
    "#         state = self.fc2(state)  # Output layer without activation function\n",
    "#         return state\n",
    "\n",
    "# Xset_tensor = torch.from_numpy(np.array(Xset)).to(torch.float32)\n",
    "# Yset_tensor = torch.from_numpy(np.array(Yset)).to(torch.float32)\n",
    "    \n",
    "# # Training data\n",
    "# input_data = Xset_tensor \n",
    "# target_data = Yset_tensor \n",
    "\n",
    "# # Create the model\n",
    "# model = TwoToTenNet(dim_x, dim_y)\n",
    "\n",
    "# # Define the loss functioy_n and optimizer\n",
    "# criterion = nn.MSELoss()\n",
    "# optimizer = optim.SGD(model.parameters(), lr=0.01)\n",
    "\n",
    "# # Training loop\n",
    "# ll = []\n",
    "# num_epochs = 10000\n",
    "# for epoch in tqdm(range(num_epochs)):\n",
    "#     # Forward pass\n",
    "#     outputs = model(input_data)\n",
    "    \n",
    "#     # Compute the loss\n",
    "#     loss = criterion(outputs, target_data)\n",
    "    \n",
    "#     # Backward pass and optimization\n",
    "#     optimizer.zero_grad()\n",
    "#     loss.backward()\n",
    "#     optimizer.step()\n",
    "    \n",
    "#     ll.append(loss.item())\n",
    "\n",
    "# plt.plot(ll)\n",
    "# plt.xlabel(\"iterations\")\n",
    "# plt.ylabel(\"loss\")\n",
    "# plt.show\n",
    "\n",
    "# # Testing the model\n",
    "# test_input = torch.tensor([[0.5, 0.5]])  # Example input\n",
    "# with torch.no_grad():\n",
    "#     predicted_output = model(test_input)\n",
    "#     print(\"Predicted Output:\", predicted_output)\n",
    "    \n",
    "# PretrainModel = model"
   ]
  },
  {
   "cell_type": "code",
   "execution_count": 13,
   "id": "161e6a65",
   "metadata": {
    "ExecuteTime": {
     "end_time": "2024-02-15T12:27:12.311178Z",
     "start_time": "2024-02-15T12:27:12.238825Z"
    }
   },
   "outputs": [
    {
     "name": "stderr",
     "output_type": "stream",
     "text": [
      "100%|██████████████████████████████████████████████████████████████████████████████| 100/100 [00:00<00:00, 2662.10it/s]\n"
     ]
    },
    {
     "data": {
      "text/html": [
       "<div>\n",
       "<style scoped>\n",
       "    .dataframe tbody tr th:only-of-type {\n",
       "        vertical-align: middle;\n",
       "    }\n",
       "\n",
       "    .dataframe tbody tr th {\n",
       "        vertical-align: top;\n",
       "    }\n",
       "\n",
       "    .dataframe thead th {\n",
       "        text-align: right;\n",
       "    }\n",
       "</style>\n",
       "<table border=\"1\" class=\"dataframe\">\n",
       "  <thead>\n",
       "    <tr style=\"text-align: right;\">\n",
       "      <th></th>\n",
       "      <th>parameter-bott</th>\n",
       "      <th>parameter-cbbotr</th>\n",
       "      <th>parameter-cbheight</th>\n",
       "      <th>parameter-cbotr</th>\n",
       "      <th>parameter-cbtopr</th>\n",
       "      <th>parameter-cheight</th>\n",
       "      <th>parameter-ctopr</th>\n",
       "      <th>parameter-pitch</th>\n",
       "      <th>parameter-silvert</th>\n",
       "      <th>parameter-topt</th>\n",
       "    </tr>\n",
       "  </thead>\n",
       "  <tbody>\n",
       "    <tr>\n",
       "      <th>0</th>\n",
       "      <td>56.483536</td>\n",
       "      <td>35.766060</td>\n",
       "      <td>-141.183640</td>\n",
       "      <td>63.608124</td>\n",
       "      <td>115.328278</td>\n",
       "      <td>37.584320</td>\n",
       "      <td>28.556543</td>\n",
       "      <td>391.990173</td>\n",
       "      <td>26.162649</td>\n",
       "      <td>56.493931</td>\n",
       "    </tr>\n",
       "    <tr>\n",
       "      <th>1</th>\n",
       "      <td>56.222137</td>\n",
       "      <td>36.265919</td>\n",
       "      <td>-139.314529</td>\n",
       "      <td>61.919029</td>\n",
       "      <td>113.409492</td>\n",
       "      <td>37.646301</td>\n",
       "      <td>28.143822</td>\n",
       "      <td>391.546326</td>\n",
       "      <td>25.832010</td>\n",
       "      <td>56.164684</td>\n",
       "    </tr>\n",
       "    <tr>\n",
       "      <th>2</th>\n",
       "      <td>55.960747</td>\n",
       "      <td>36.765759</td>\n",
       "      <td>-137.445419</td>\n",
       "      <td>60.229927</td>\n",
       "      <td>111.490707</td>\n",
       "      <td>37.708344</td>\n",
       "      <td>27.731104</td>\n",
       "      <td>391.102478</td>\n",
       "      <td>25.501373</td>\n",
       "      <td>55.835445</td>\n",
       "    </tr>\n",
       "    <tr>\n",
       "      <th>3</th>\n",
       "      <td>55.699348</td>\n",
       "      <td>37.265617</td>\n",
       "      <td>-135.576340</td>\n",
       "      <td>58.540810</td>\n",
       "      <td>109.571922</td>\n",
       "      <td>37.770325</td>\n",
       "      <td>27.318382</td>\n",
       "      <td>390.658691</td>\n",
       "      <td>25.170734</td>\n",
       "      <td>55.506195</td>\n",
       "    </tr>\n",
       "    <tr>\n",
       "      <th>4</th>\n",
       "      <td>55.437958</td>\n",
       "      <td>37.765469</td>\n",
       "      <td>-133.707291</td>\n",
       "      <td>56.851685</td>\n",
       "      <td>107.653137</td>\n",
       "      <td>37.832275</td>\n",
       "      <td>26.905657</td>\n",
       "      <td>390.214844</td>\n",
       "      <td>24.840096</td>\n",
       "      <td>55.176952</td>\n",
       "    </tr>\n",
       "    <tr>\n",
       "      <th>...</th>\n",
       "      <td>...</td>\n",
       "      <td>...</td>\n",
       "      <td>...</td>\n",
       "      <td>...</td>\n",
       "      <td>...</td>\n",
       "      <td>...</td>\n",
       "      <td>...</td>\n",
       "      <td>...</td>\n",
       "      <td>...</td>\n",
       "      <td>...</td>\n",
       "    </tr>\n",
       "    <tr>\n",
       "      <th>95</th>\n",
       "      <td>35.753071</td>\n",
       "      <td>31.258144</td>\n",
       "      <td>1019.773804</td>\n",
       "      <td>79.454483</td>\n",
       "      <td>89.083542</td>\n",
       "      <td>788.135132</td>\n",
       "      <td>39.072315</td>\n",
       "      <td>252.879028</td>\n",
       "      <td>2.775412</td>\n",
       "      <td>37.765652</td>\n",
       "    </tr>\n",
       "    <tr>\n",
       "      <th>96</th>\n",
       "      <td>35.850868</td>\n",
       "      <td>31.149975</td>\n",
       "      <td>1039.529785</td>\n",
       "      <td>80.318542</td>\n",
       "      <td>90.210846</td>\n",
       "      <td>798.451416</td>\n",
       "      <td>40.059299</td>\n",
       "      <td>255.298981</td>\n",
       "      <td>2.676074</td>\n",
       "      <td>37.766815</td>\n",
       "    </tr>\n",
       "    <tr>\n",
       "      <th>97</th>\n",
       "      <td>35.948654</td>\n",
       "      <td>31.041803</td>\n",
       "      <td>1059.285645</td>\n",
       "      <td>81.182594</td>\n",
       "      <td>91.338150</td>\n",
       "      <td>808.767456</td>\n",
       "      <td>41.046291</td>\n",
       "      <td>257.718964</td>\n",
       "      <td>2.576736</td>\n",
       "      <td>37.767971</td>\n",
       "    </tr>\n",
       "    <tr>\n",
       "      <th>98</th>\n",
       "      <td>36.046448</td>\n",
       "      <td>30.933636</td>\n",
       "      <td>1079.041382</td>\n",
       "      <td>82.046638</td>\n",
       "      <td>92.465446</td>\n",
       "      <td>819.083740</td>\n",
       "      <td>42.033272</td>\n",
       "      <td>260.138916</td>\n",
       "      <td>2.477398</td>\n",
       "      <td>37.769135</td>\n",
       "    </tr>\n",
       "    <tr>\n",
       "      <th>99</th>\n",
       "      <td>36.144241</td>\n",
       "      <td>30.825466</td>\n",
       "      <td>1098.797241</td>\n",
       "      <td>82.910690</td>\n",
       "      <td>93.592758</td>\n",
       "      <td>829.399902</td>\n",
       "      <td>43.020256</td>\n",
       "      <td>262.558868</td>\n",
       "      <td>2.378060</td>\n",
       "      <td>37.770294</td>\n",
       "    </tr>\n",
       "  </tbody>\n",
       "</table>\n",
       "<p>100 rows × 10 columns</p>\n",
       "</div>"
      ],
      "text/plain": [
       "    parameter-bott  parameter-cbbotr  parameter-cbheight  parameter-cbotr  \\\n",
       "0        56.483536         35.766060         -141.183640        63.608124   \n",
       "1        56.222137         36.265919         -139.314529        61.919029   \n",
       "2        55.960747         36.765759         -137.445419        60.229927   \n",
       "3        55.699348         37.265617         -135.576340        58.540810   \n",
       "4        55.437958         37.765469         -133.707291        56.851685   \n",
       "..             ...               ...                 ...              ...   \n",
       "95       35.753071         31.258144         1019.773804        79.454483   \n",
       "96       35.850868         31.149975         1039.529785        80.318542   \n",
       "97       35.948654         31.041803         1059.285645        81.182594   \n",
       "98       36.046448         30.933636         1079.041382        82.046638   \n",
       "99       36.144241         30.825466         1098.797241        82.910690   \n",
       "\n",
       "    parameter-cbtopr  parameter-cheight  parameter-ctopr  parameter-pitch  \\\n",
       "0         115.328278          37.584320        28.556543       391.990173   \n",
       "1         113.409492          37.646301        28.143822       391.546326   \n",
       "2         111.490707          37.708344        27.731104       391.102478   \n",
       "3         109.571922          37.770325        27.318382       390.658691   \n",
       "4         107.653137          37.832275        26.905657       390.214844   \n",
       "..               ...                ...              ...              ...   \n",
       "95         89.083542         788.135132        39.072315       252.879028   \n",
       "96         90.210846         798.451416        40.059299       255.298981   \n",
       "97         91.338150         808.767456        41.046291       257.718964   \n",
       "98         92.465446         819.083740        42.033272       260.138916   \n",
       "99         93.592758         829.399902        43.020256       262.558868   \n",
       "\n",
       "    parameter-silvert  parameter-topt  \n",
       "0           26.162649       56.493931  \n",
       "1           25.832010       56.164684  \n",
       "2           25.501373       55.835445  \n",
       "3           25.170734       55.506195  \n",
       "4           24.840096       55.176952  \n",
       "..                ...             ...  \n",
       "95           2.775412       37.765652  \n",
       "96           2.676074       37.766815  \n",
       "97           2.576736       37.767971  \n",
       "98           2.477398       37.769135  \n",
       "99           2.378060       37.770294  \n",
       "\n",
       "[100 rows x 10 columns]"
      ]
     },
     "execution_count": 13,
     "metadata": {},
     "output_type": "execute_result"
    }
   ],
   "source": [
    "# Pretrain base model of Pareto\n",
    "Pset = []\n",
    "df_Pset = pd.DataFrame()\n",
    "\n",
    "for i in tqdm(range(x_n)):\n",
    "    with torch.no_grad():\n",
    "        predicted_output = PretrainModel(torch.tensor([[i/x_n, 1-i/x_n]])).numpy()\n",
    "        Pset.append(predicted_output)\n",
    "        df_Pset = pd.concat([df_Pset, pd.DataFrame(predicted_output)], ignore_index=True)\n",
    "\n",
    "df_Pset.columns = df_parameter.columns\n",
    "df_Pset"
   ]
  },
  {
   "cell_type": "code",
   "execution_count": 14,
   "id": "22eae48b",
   "metadata": {
    "ExecuteTime": {
     "end_time": "2024-02-15T12:29:39.769952Z",
     "start_time": "2024-02-15T12:27:12.311178Z"
    }
   },
   "outputs": [
    {
     "name": "stderr",
     "output_type": "stream",
     "text": [
      "100%|████████████████████████████████████████████████████████████████████████████████| 100/100 [02:15<00:00,  1.36s/it]\n"
     ]
    },
    {
     "data": {
      "image/png": "[encoded data removed]",
      "text/plain": [
       "<Figure size 640x480 with 1 Axes>"
      ]
     },
     "metadata": {},
     "output_type": "display_data"
    }
   ],
   "source": [
    "# Reward Model can not be seperated by direction: only train an global reward model\n",
    "\n",
    "# class RewardNet(nn.Module):\n",
    "#     def __init__(self):\n",
    "#         super(RewardNet, self).__init__()\n",
    "#         self.fc1 = nn.Linear(10, 64)  # Input layer: 10 features, Output layer: 64 neurons\n",
    "#         self.fc2 = nn.Linear(64, 1)  # Hidden layer: 64 neurons, Output layer: 1 neurons\n",
    "\n",
    "#     def forward(self, x):\n",
    "#         x = torch.relu(self.fc1(x))  # ReLU activation for the first layer\n",
    "#         x = self.fc2(x)  # Output layer without activation function\n",
    "#         return x\n",
    "\n",
    "    \n",
    "# RewardModels = []\n",
    "# for i in tqdm(range(x_n)):\n",
    "#     flag = True\n",
    "    \n",
    "#     parameter_tensor = torch.from_numpy(parameter_mat).to(torch.float32)\n",
    "#     Rset_tensor = torch.from_numpy(Rset[i]).to(torch.float32)\n",
    "    \n",
    "#     while(flag):\n",
    "#         # Training data\n",
    "#         input_data = parameter_tensor  # 2500 samples, 10 input features\n",
    "#         target_data = Rset_tensor  # 2500 samples, 1 target features\n",
    "\n",
    "#         # Create the model\n",
    "#         model = RewardNet()\n",
    "\n",
    "#         # Define the loss function and optimizer\n",
    "#         criterion = nn.MSELoss()\n",
    "#         optimizer = optim.SGD(model.parameters(), lr=0.01)\n",
    "\n",
    "#         # Training loop\n",
    "#         ll = []\n",
    "#         num_epochs = 1000\n",
    "#         for epoch in range(num_epochs):\n",
    "#             # Forward pass\n",
    "#             outputs = model(input_data)\n",
    "\n",
    "#             # Compute the loss\n",
    "#             loss = criterion(outputs, target_data)\n",
    "\n",
    "#             # Backward pass and optimization\n",
    "#             optimizer.zero_grad()\n",
    "#             loss.backward()\n",
    "#             optimizer.step()\n",
    "\n",
    "#             ll.append(loss.item())\n",
    "\n",
    "#         with torch.no_grad():\n",
    "#             predicted_output = model(torch.tensor(Pset[i]))\n",
    "#             flag = torch.isnan(predicted_output)\n",
    "    \n",
    "#     plt.plot(ll)\n",
    "#     plt.xlabel(\"iterations\")\n",
    "#     plt.ylabel(\"loss\")\n",
    "#     plt.show\n",
    "\n",
    "#     RewardModels.append(model)\n"
   ]
  },
  {
   "cell_type": "code",
   "execution_count": null,
   "id": "6a5b79b5",
   "metadata": {},
   "outputs": [],
   "source": []
  },
  {
   "cell_type": "code",
   "execution_count": 24,
   "id": "362ce56c",
   "metadata": {
    "ExecuteTime": {
     "end_time": "2024-02-16T03:57:02.369388Z",
     "start_time": "2024-02-16T03:57:02.346039Z"
    }
   },
   "outputs": [
    {
     "data": {
      "text/html": [
       "<div>\n",
       "<style scoped>\n",
       "    .dataframe tbody tr th:only-of-type {\n",
       "        vertical-align: middle;\n",
       "    }\n",
       "\n",
       "    .dataframe tbody tr th {\n",
       "        vertical-align: top;\n",
       "    }\n",
       "\n",
       "    .dataframe thead th {\n",
       "        text-align: right;\n",
       "    }\n",
       "</style>\n",
       "<table border=\"1\" class=\"dataframe\">\n",
       "  <thead>\n",
       "    <tr style=\"text-align: right;\">\n",
       "      <th></th>\n",
       "      <th>0</th>\n",
       "      <th>1</th>\n",
       "      <th>2</th>\n",
       "      <th>3</th>\n",
       "      <th>4</th>\n",
       "      <th>5</th>\n",
       "      <th>6</th>\n",
       "      <th>7</th>\n",
       "      <th>8</th>\n",
       "      <th>9</th>\n",
       "    </tr>\n",
       "  </thead>\n",
       "  <tbody>\n",
       "    <tr>\n",
       "      <th>0</th>\n",
       "      <td>0.594180</td>\n",
       "      <td>0.280932</td>\n",
       "      <td>0.118068</td>\n",
       "      <td>0.000000</td>\n",
       "      <td>0.280933</td>\n",
       "      <td>0.805912</td>\n",
       "      <td>0.000000</td>\n",
       "      <td>1.000000</td>\n",
       "      <td>0.952808</td>\n",
       "      <td>0.799161</td>\n",
       "    </tr>\n",
       "    <tr>\n",
       "      <th>1</th>\n",
       "      <td>0.382632</td>\n",
       "      <td>0.085470</td>\n",
       "      <td>0.000000</td>\n",
       "      <td>0.371937</td>\n",
       "      <td>0.543686</td>\n",
       "      <td>0.000000</td>\n",
       "      <td>0.111644</td>\n",
       "      <td>0.670137</td>\n",
       "      <td>0.978834</td>\n",
       "      <td>0.383307</td>\n",
       "    </tr>\n",
       "    <tr>\n",
       "      <th>16</th>\n",
       "      <td>0.405229</td>\n",
       "      <td>0.000000</td>\n",
       "      <td>0.000000</td>\n",
       "      <td>0.339325</td>\n",
       "      <td>0.141856</td>\n",
       "      <td>0.000000</td>\n",
       "      <td>0.336451</td>\n",
       "      <td>0.431599</td>\n",
       "      <td>0.926375</td>\n",
       "      <td>0.443343</td>\n",
       "    </tr>\n",
       "    <tr>\n",
       "      <th>19</th>\n",
       "      <td>0.461142</td>\n",
       "      <td>0.000000</td>\n",
       "      <td>0.000000</td>\n",
       "      <td>0.000000</td>\n",
       "      <td>0.243916</td>\n",
       "      <td>0.982328</td>\n",
       "      <td>0.000000</td>\n",
       "      <td>0.274181</td>\n",
       "      <td>0.832059</td>\n",
       "      <td>0.418260</td>\n",
       "    </tr>\n",
       "    <tr>\n",
       "      <th>23</th>\n",
       "      <td>0.396895</td>\n",
       "      <td>0.678163</td>\n",
       "      <td>0.011360</td>\n",
       "      <td>0.340907</td>\n",
       "      <td>0.678163</td>\n",
       "      <td>0.002363</td>\n",
       "      <td>0.340902</td>\n",
       "      <td>0.678163</td>\n",
       "      <td>0.718477</td>\n",
       "      <td>0.387918</td>\n",
       "    </tr>\n",
       "    <tr>\n",
       "      <th>24</th>\n",
       "      <td>0.438451</td>\n",
       "      <td>0.263247</td>\n",
       "      <td>0.001011</td>\n",
       "      <td>0.034789</td>\n",
       "      <td>0.264288</td>\n",
       "      <td>0.000000</td>\n",
       "      <td>0.034350</td>\n",
       "      <td>0.999869</td>\n",
       "      <td>0.655699</td>\n",
       "      <td>0.430696</td>\n",
       "    </tr>\n",
       "    <tr>\n",
       "      <th>45</th>\n",
       "      <td>0.440697</td>\n",
       "      <td>0.160530</td>\n",
       "      <td>0.000215</td>\n",
       "      <td>0.125721</td>\n",
       "      <td>0.212590</td>\n",
       "      <td>0.000008</td>\n",
       "      <td>0.125721</td>\n",
       "      <td>0.720895</td>\n",
       "      <td>0.551544</td>\n",
       "      <td>0.431949</td>\n",
       "    </tr>\n",
       "    <tr>\n",
       "      <th>51</th>\n",
       "      <td>0.398074</td>\n",
       "      <td>0.181350</td>\n",
       "      <td>0.564298</td>\n",
       "      <td>0.317873</td>\n",
       "      <td>0.190176</td>\n",
       "      <td>0.429864</td>\n",
       "      <td>0.059747</td>\n",
       "      <td>0.368795</td>\n",
       "      <td>0.402832</td>\n",
       "      <td>0.410934</td>\n",
       "    </tr>\n",
       "    <tr>\n",
       "      <th>57</th>\n",
       "      <td>0.354893</td>\n",
       "      <td>0.320745</td>\n",
       "      <td>0.486336</td>\n",
       "      <td>0.366915</td>\n",
       "      <td>0.379006</td>\n",
       "      <td>0.907253</td>\n",
       "      <td>0.074305</td>\n",
       "      <td>0.414787</td>\n",
       "      <td>0.245737</td>\n",
       "      <td>0.477764</td>\n",
       "    </tr>\n",
       "    <tr>\n",
       "      <th>68</th>\n",
       "      <td>0.481851</td>\n",
       "      <td>0.168749</td>\n",
       "      <td>0.437472</td>\n",
       "      <td>0.323769</td>\n",
       "      <td>0.343140</td>\n",
       "      <td>0.419987</td>\n",
       "      <td>0.003521</td>\n",
       "      <td>0.361243</td>\n",
       "      <td>0.177451</td>\n",
       "      <td>0.414184</td>\n",
       "    </tr>\n",
       "    <tr>\n",
       "      <th>71</th>\n",
       "      <td>0.222736</td>\n",
       "      <td>0.025026</td>\n",
       "      <td>0.998268</td>\n",
       "      <td>0.384286</td>\n",
       "      <td>0.388747</td>\n",
       "      <td>0.831072</td>\n",
       "      <td>0.119393</td>\n",
       "      <td>0.388792</td>\n",
       "      <td>0.121351</td>\n",
       "      <td>0.275550</td>\n",
       "    </tr>\n",
       "    <tr>\n",
       "      <th>86</th>\n",
       "      <td>0.330454</td>\n",
       "      <td>0.185793</td>\n",
       "      <td>1.000000</td>\n",
       "      <td>0.435716</td>\n",
       "      <td>0.445051</td>\n",
       "      <td>0.927717</td>\n",
       "      <td>0.186794</td>\n",
       "      <td>0.449888</td>\n",
       "      <td>0.050000</td>\n",
       "      <td>0.366515</td>\n",
       "    </tr>\n",
       "  </tbody>\n",
       "</table>\n",
       "</div>"
      ],
      "text/plain": [
       "           0         1         2         3         4         5         6  \\\n",
       "0   0.594180  0.280932  0.118068  0.000000  0.280933  0.805912  0.000000   \n",
       "1   0.382632  0.085470  0.000000  0.371937  0.543686  0.000000  0.111644   \n",
       "16  0.405229  0.000000  0.000000  0.339325  0.141856  0.000000  0.336451   \n",
       "19  0.461142  0.000000  0.000000  0.000000  0.243916  0.982328  0.000000   \n",
       "23  0.396895  0.678163  0.011360  0.340907  0.678163  0.002363  0.340902   \n",
       "24  0.438451  0.263247  0.001011  0.034789  0.264288  0.000000  0.034350   \n",
       "45  0.440697  0.160530  0.000215  0.125721  0.212590  0.000008  0.125721   \n",
       "51  0.398074  0.181350  0.564298  0.317873  0.190176  0.429864  0.059747   \n",
       "57  0.354893  0.320745  0.486336  0.366915  0.379006  0.907253  0.074305   \n",
       "68  0.481851  0.168749  0.437472  0.323769  0.343140  0.419987  0.003521   \n",
       "71  0.222736  0.025026  0.998268  0.384286  0.388747  0.831072  0.119393   \n",
       "86  0.330454  0.185793  1.000000  0.435716  0.445051  0.927717  0.186794   \n",
       "\n",
       "           7         8         9  \n",
       "0   1.000000  0.952808  0.799161  \n",
       "1   0.670137  0.978834  0.383307  \n",
       "16  0.431599  0.926375  0.443343  \n",
       "19  0.274181  0.832059  0.418260  \n",
       "23  0.678163  0.718477  0.387918  \n",
       "24  0.999869  0.655699  0.430696  \n",
       "45  0.720895  0.551544  0.431949  \n",
       "51  0.368795  0.402832  0.410934  \n",
       "57  0.414787  0.245737  0.477764  \n",
       "68  0.361243  0.177451  0.414184  \n",
       "71  0.388792  0.121351  0.275550  \n",
       "86  0.449888  0.050000  0.366515  "
      ]
     },
     "execution_count": 24,
     "metadata": {},
     "output_type": "execute_result"
    }
   ],
   "source": [
    "df = pd.DataFrame(Yset)\n",
    "pareto = df.drop_duplicates()\n",
    "pareto"
   ]
  }
 ],
 "metadata": {
  "kernelspec": {
   "display_name": "Python 3 (ipykernel)",
   "language": "python",
   "name": "python3"
  },
  "language_info": {
   "codemirror_mode": {
    "name": "ipython",
    "version": 3
   },
   "file_extension": ".py",
   "mimetype": "text/x-python",
   "name": "python",
   "nbconvert_exporter": "python",
   "pygments_lexer": "ipython3",
   "version": "3.11.3"
  }
 },
 "nbformat": 4,
 "nbformat_minor": 5
}
